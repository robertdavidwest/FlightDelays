{
 "metadata": {
  "name": "",
  "signature": "sha256:c2fa31bc30c504a1366cc53098892650450552d393c2ddadd781ded1252351f0"
 },
 "nbformat": 3,
 "nbformat_minor": 0,
 "worksheets": [
  {
   "cells": [
    {
     "cell_type": "markdown",
     "metadata": {},
     "source": [
      "# Flight Delays\n",
      "\n",
      "The goal of this project is to use data gathered on obsereved historical flight information and create a working model (using Python's SciKitLeatn library) that successfully predicts flight delays. \n",
      "\n",
      "To not only produce a predictive model, but also to understand the factors contributing to that prediction and observe the models performance across different data\n",
      "\n",
      "To see details of how to obtain all of the data needed for this model, see [here](https://github.com/robertdavidwest/airports)"
     ]
    },
    {
     "cell_type": "markdown",
     "metadata": {},
     "source": [
      "I'm using data from [the Bureal of Transportation Statistics](http://www.transtats.bts.gov/DL_SelectFields.asp?Table_ID=236&DB_Short_Name=On-Time) which offer flight level data from 1987 to present. This is of course quite a lot of data.\n",
      "\n",
      "I narrowed the range of data used in the model by using data from 2013 flights to predict flight delays in 2014 (the 2015 dataset was not yet complete, missing data from December 2015). \n",
      "\n",
      "The intension is to successfully predict flight delays using a range of variables from difference sources including information specific to the flight, the weather and the aircraft itself:\n",
      "\n",
      "* as mentioned Flight data from the [Bureal of Transportation Statistics](http://www.transtats.bts.gov/DL_SelectFields.asp?Table_ID=236&DB_Short_Name=On-Time)\n",
      "* Weather data from (http://www.ncdc.noaa.gov/cdo-web/datasets/)\n",
      "* Aircraft specific data from (http://registry.faa.gov/aircraftinquiry/NNum_Results.aspx?NNumbertxt=N325US)\n",
      "\n",
      "I will use John. F Kenedy airport in New York City, then with a working model developed I will compare it's performance on other airports\n"
     ]
    },
    {
     "cell_type": "markdown",
     "metadata": {},
     "source": [
      "The initial dataset already contains a rich supply of interesting data with the following most interesting fields of interest and distributions seen in the JFK dataset:"
     ]
    },
    {
     "cell_type": "code",
     "collapsed": false,
     "input": [
      "import warnings\n",
      "warnings.filterwarnings('ignore')\n",
      "\n",
      "import pandas as pd\n",
      "import sys\n",
      "sys.path.append(\"G:/code/rwest/Github/FlightDelays/\")\n",
      "\n",
      "from FlightDelays.config import output_dir, hdf_path\n",
      "\n",
      "df = pd.read_excel(output_dir + 'flight_info_variable_definitions.xlsx')\n",
      "\n",
      "idx = df['Variable'].isin(['FlightDate', 'UniqueCarrier', 'TailNum', 'Origin', 'Dest', \n",
      "                           'CRSDepTime', 'CRSArrTime', 'DepDelayMinutes', 'Cancelled', 'AirTime', 'Distance'])\n",
      "print df[idx].reset_index(drop=True)\n"
     ],
     "language": "python",
     "metadata": {},
     "outputs": [
      {
       "output_type": "stream",
       "stream": "stdout",
       "text": [
        "           Variable                                        Description\n",
        "0        FlightDate                             Flight Date (yyyymmdd)\n",
        "1     UniqueCarrier  Unique Carrier Code. When the same code has be...\n",
        "2           TailNum                                        Tail Number\n",
        "3            Origin                                     Origin Airport\n",
        "4              Dest                                Destination Airport\n",
        "5        CRSDepTime              CRS Departure Time (local time: hhmm)\n",
        "6   DepDelayMinutes  Difference in minutes between scheduled and ac...\n",
        "7        CRSArrTime                CRS Arrival Time (local time: hhmm)\n",
        "8         Cancelled                 Cancelled Flight Indicator (1=Yes)\n",
        "9           AirTime                            Flight Time, in Minutes\n",
        "10         Distance                  Distance between airports (miles)\n"
       ]
      }
     ],
     "prompt_number": 11
    },
    {
     "cell_type": "markdown",
     "metadata": {},
     "source": [
      "## Dependent Variable\n",
      "\n",
      "We need to decide exactly what our dpendent variable is. How exactly do you define a delay? The variable `DepDelayMinutes` contains the non-negative time passed from the scheduled departure to the actual departure, i.e. early take off information is not included in this variable. \n",
      "\n",
      "Suppose we define a delay to be any event where `DepDelayMinutes` is greater than 15. That way we are not picking up the more trivial delays.\n",
      "\n",
      "A few variable transformations\n",
      "----------------------------------\n",
      "* We will discretize the time of day into the hour of the day and call the variable `Hour`\n",
      "* I'm also using the separate variables provided `Year`, `Month`, and `day` of month rather than `FlightDate` since each of these variables could have differing explantory power\n",
      "* Lets define the following function `prep_data()` to handle the initial transformations, encodings and definitions"
     ]
    },
    {
     "cell_type": "code",
     "collapsed": false,
     "input": [
      "from pandas.util import testing\n",
      "from copy import deepcopy\n",
      "from sklearn.preprocessing import StandardScaler, LabelEncoder\n",
      "from FlightDelays.helpers import get_hour\n",
      "\n",
      "def prep_data(xcols, categoricals, data, condition=None, suppress_print=False):\n",
      "    \"\"\"Define dependend variables, remove cancellations, encode categoricals and\n",
      "    make any need variable transforms\n",
      "    \n",
      "    Parameters\n",
      "    ----------\n",
      "    xols : list\n",
      "        list of x variables\n",
      "    categoricals : list\n",
      "        list of str categorical variables contained in xols\n",
      "    data : pd.DataFrame\n",
      "        the dataset\n",
      "    condition : str\n",
      "        any additional condtion to be given to data.query()\n",
      "    \n",
      "    Returns\n",
      "    -------\n",
      "    allcols_data : pd.DataFrame\n",
      "        all data after filtering \n",
      "    data_x : pd.DataFrame\n",
      "        the subset of data containing `xcols`\n",
      "    data_x : pd.Series\n",
      "        the subset of data containing the dependent variable\n",
      "    label_encoders : dict\n",
      "        a dict of label_encoder objects\n",
      "    \"\"\"\n",
      "    if condition:\n",
      "        len_before = len(data)\n",
      "        data = data.query(condition)\n",
      "        if not suppress_print:\n",
      "            print len(data)\n",
      "            percent = 100*(len_before - len(data))/len_before\n",
      "            print ''\n",
      "            print 'after imposing the condition: {}'.format(condition)\n",
      "            print 'the dataset was reduced by {:.0f}%'.format(percent)\n",
      "        \n",
      "    # remove cancelled flights from dataset\n",
      "    idx = data['Cancelled'] == 0\n",
      "    data = data.loc[idx, :]\n",
      "\n",
      "    # create Y-variables\n",
      "    data['Delay'] = data['DepDelayMinutes'] > 15\n",
      "\n",
      "    # create hour variable\n",
      "    data['Hour'] = data['DepTime'].apply(lambda s: get_hour(s))\n",
      "\n",
      "    # make air time an integer\n",
      "    data['AirTime'] = data['AirTime'].astype(float)\n",
      "    \n",
      "    # Encode categoricals\n",
      "    label_encoders = {}\n",
      "    for col in categoricals:\n",
      "        le = LabelEncoder()\n",
      "        le.fit(data[col])\n",
      "        data[col] = le.transform(data[col])\n",
      "        label_encoders[col] = le\n",
      "\n",
      "    allcols_data = deepcopy(data)\n",
      "    data = data[xcols + ['Delay']]\n",
      "\n",
      "    if not suppress_print:\n",
      "        # show distribution of null values in data\n",
      "        for c in data.columns:\n",
      "            print '{} has {} nulls'.format(c, sum(data[c].isnull()))\n",
      "        print ''\n",
      "\n",
      "    len_before = len(data)\n",
      "    # remove null values\n",
      "    for c in data.columns:\n",
      "        idx = data[c].notnull()\n",
      "        testing.assert_series_equal(idx, allcols_data[c].notnull())\n",
      "        \n",
      "        data = data[idx]\n",
      "        allcols_data = allcols_data[idx]\n",
      "    \n",
      "    if not suppress_print:\n",
      "        percent = 100*(len_before - len(data))/len_before\n",
      "        print 'len before drop nulls: {}'.format(len_before)\n",
      "        print 'len before drop nulls: {}'.format(len(data))\n",
      "    \n",
      "        print 'After removing nulls dataset reduced by {:.0f}%'.format(percent)\n",
      "        print ''\n",
      "        print 'Delay Distribution'\n",
      "        print data['Delay'].value_counts()\n",
      "        print ''\n",
      "    \n",
      "    data_y = data['Delay']\n",
      "    data_x = data[xcols]\n",
      "\n",
      "    return allcols_data, data_x, data_y, label_encoders\n",
      "    "
     ],
     "language": "python",
     "metadata": {},
     "outputs": [],
     "prompt_number": 12
    },
    {
     "cell_type": "markdown",
     "metadata": {},
     "source": [
      "\n",
      "\n"
     ]
    },
    {
     "cell_type": "markdown",
     "metadata": {},
     "source": [
      "* We might expect the variables Distance and AirTime to have a strong correlation.\n",
      "* We might also expect the scheduled landing time to be correlated with AirTime since we are only looking at single airport. Lets look in the data"
     ]
    },
    {
     "cell_type": "code",
     "collapsed": false,
     "input": [
      "import pandas as pd\n",
      "\n",
      "Origin = 'JFK'\n",
      "where = ['Year == 2013', \"Origin == '{}'\".format(Origin)]\n",
      "xcols = [u'DayOfWeek', u'DayofMonth', u'Month', u'UniqueCarrier', u'Dest', u'Distance', u'AirTime',\n",
      "         u'Hour',]\n",
      "categoricals = ['UniqueCarrier', 'Dest']\n",
      "\n",
      "with pd.HDFStore(hdf_path, 'r') as store:\n",
      "    train_data = store.select('flat_file', where=where)\n",
      "    train_data, train_x, train_y, label_encoders = prep_data(xcols, categoricals, train_data)\n",
      "    print train_x.head() # Notice that the Carrier and Destination variables have been encoded\n",
      "    print train_data[xcols + ['Delay']].corr()\n",
      "    \n",
      "    "
     ],
     "language": "python",
     "metadata": {},
     "outputs": [
      {
       "output_type": "stream",
       "stream": "stdout",
       "text": [
        "DayOfWeek has 0 nulls\n",
        "DayofMonth has 0 nulls"
       ]
      },
      {
       "output_type": "stream",
       "stream": "stdout",
       "text": [
        "\n",
        "Month has 0 nulls"
       ]
      },
      {
       "output_type": "stream",
       "stream": "stdout",
       "text": [
        "\n",
        "UniqueCarrier has 0 nulls"
       ]
      },
      {
       "output_type": "stream",
       "stream": "stdout",
       "text": [
        "\n",
        "Dest has 0 nulls"
       ]
      },
      {
       "output_type": "stream",
       "stream": "stdout",
       "text": [
        "\n",
        "Distance has 0 nulls"
       ]
      },
      {
       "output_type": "stream",
       "stream": "stdout",
       "text": [
        "\n",
        "AirTime has 238 nulls"
       ]
      },
      {
       "output_type": "stream",
       "stream": "stdout",
       "text": [
        "\n",
        "Hour has 0 nulls"
       ]
      },
      {
       "output_type": "stream",
       "stream": "stdout",
       "text": [
        "\n",
        "Delay has 0 nulls"
       ]
      },
      {
       "output_type": "stream",
       "stream": "stdout",
       "text": [
        "\n",
        "\n",
        "len before drop nulls: 109317"
       ]
      },
      {
       "output_type": "stream",
       "stream": "stdout",
       "text": [
        "\n",
        "len before drop nulls: 109079\n",
        "After removing nulls dataset reduced by 0%\n",
        "\n",
        "Delay Distribution\n",
        "False    86565\n",
        "True     22514\n",
        "Name: Delay, dtype: int64\n",
        "\n",
        "     DayOfWeek  DayofMonth  Month  UniqueCarrier  Dest  Distance  AirTime  \\\n",
        "12           5          18      1              3    55      1074      167   \n",
        "35           5          18      1              3    30      2248      312   \n",
        "158          5          18      1              3    59      2422      354   \n",
        "252          5          18      1              3    30      2248      301   \n",
        "296          5          18      1              3    60      2586      346   \n",
        "\n",
        "     Hour  \n",
        "12     16  \n",
        "35     12  \n",
        "158    18  \n",
        "252    19  \n",
        "296    10  \n",
        "               DayOfWeek  DayofMonth     Month  UniqueCarrier      Dest  \\\n",
        "DayOfWeek       1.000000    0.009564  0.000842      -0.009105  0.000166   \n",
        "DayofMonth      0.009564    1.000000  0.013129       0.001717  0.002341   \n",
        "Month           0.000842    0.013129  1.000000       0.027933 -0.005159   \n",
        "UniqueCarrier  -0.009105    0.001717  0.027933       1.000000  0.061101   \n",
        "Dest            0.000166    0.002341 -0.005159       0.061101  1.000000   \n",
        "Distance       -0.007647    0.002958  0.019713       0.263066  0.390457   \n",
        "AirTime        -0.010082    0.002832  0.012278       0.267026  0.383786   \n",
        "Hour            0.005472    0.002699 -0.008144      -0.102019 -0.051677   \n",
        "Delay          -0.006147    0.001173 -0.015414      -0.054488 -0.009348   \n",
        "\n",
        "               Distance   AirTime      Hour     Delay  \n",
        "DayOfWeek     -0.007647 -0.010082  0.005472 -0.006147  \n",
        "DayofMonth     0.002958  0.002832  0.002699  0.001173  \n",
        "Month          0.019713  0.012278 -0.008144 -0.015414  \n",
        "UniqueCarrier  0.263066  0.267026 -0.102019 -0.054488  \n",
        "Dest           0.390457  0.383786 -0.051677 -0.009348  \n",
        "Distance       1.000000  0.992401 -0.046651 -0.054476  \n",
        "AirTime        0.992401  1.000000 -0.044854 -0.055878  \n",
        "Hour          -0.046651 -0.044854  1.000000  0.306697  \n",
        "Delay         -0.054476 -0.055878  0.306697  1.000000  "
       ]
      },
      {
       "output_type": "stream",
       "stream": "stdout",
       "text": [
        "\n"
       ]
      }
     ],
     "prompt_number": 13
    },
    {
     "cell_type": "markdown",
     "metadata": {},
     "source": [
      "As expected AirTime is highly correlated with Distance, and Distance has a fairly high correlation with Destination at .39"
     ]
    },
    {
     "cell_type": "code",
     "collapsed": false,
     "input": [
      "%matplotlib inline\n",
      "# time category distributions of delays (with the variable Hour looking to be by far the most interesting\n",
      "delay_dist = lambda var: train_data[['Delay', var]].groupby(var).mean()\n",
      "delay_dist('Month').plot(kind='bar')\n",
      "delay_dist('DayOfWeek').plot(kind='bar')\n",
      "delay_dist('DayofMonth').plot(kind='bar')\n",
      "delay_dist('Hour').plot(kind='bar')\n"
     ],
     "language": "python",
     "metadata": {},
     "outputs": [
      {
       "metadata": {},
       "output_type": "pyout",
       "prompt_number": 25,
       "text": [
        "<matplotlib.axes.AxesSubplot at 0x1b62dd30>"
       ]
      },
      {
       "metadata": {},
       "output_type": "display_data",
       "png": "[encoded data removed]",
       "text": [
        "<matplotlib.figure.Figure at 0x17099d68>"
       ]
      },
      {
       "metadata": {},
       "output_type": "display_data",
       "png": "[encoded data removed]",
       "text": [
        "<matplotlib.figure.Figure at 0x15f77048>"
       ]
      },
      {
       "metadata": {},
       "output_type": "display_data",
       "png": "[encoded data removed]",
       "text": [
        "<matplotlib.figure.Figure at 0x6d7e1da0>"
       ]
      },
      {
       "metadata": {},
       "output_type": "display_data",
       "png": "[encoded data removed]",
       "text": [
        "<matplotlib.figure.Figure at 0x6d7f4cc0>"
       ]
      },
      {
       "metadata": {},
       "output_type": "display_data",
       "png": "[encoded data removed]",
       "text": [
        "<matplotlib.figure.Figure at 0x1b8846d8>"
       ]
      }
     ],
     "prompt_number": 25
    },
    {
     "cell_type": "markdown",
     "metadata": {},
     "source": [
      "The variable hour seems clearly has a strong correltion with the dependent variable. You have also noticed we have recoded the hours 0 through 3 to 24 thru 27, to shift these hours to the end of the day gives a more intuitive feel to the distribution."
     ]
    },
    {
     "cell_type": "markdown",
     "metadata": {},
     "source": [
      "The following function will be used to run any desired model and then display the following metrics conveniently\n",
      "\n",
      "* the confusion matrix\n",
      "* precision\n",
      "* recall\n",
      "* F1 score\n",
      "* accuracy\n",
      "* and feature ranking"
     ]
    },
    {
     "cell_type": "code",
     "collapsed": false,
     "input": [
      "import matplotlib.pyplot as plt\n",
      "import numpy as np\n",
      "from sklearn.metrics import confusion_matrix, precision_recall_fscore_support, accuracy_score\n",
      "from FlightDelays.helpers import show_stats\n",
      "from FlightDelays.config import hdf_path\n",
      "\n",
      "def test_model(mdl, Origin, xcols, categoricals, condition=None, suppress_print=False):\n",
      "    \"\"\"train the given model using the training data and predict\n",
      "    results on the test data and then display the confusion matrix,\n",
      "    precision, recall, F1 score and accuracy\n",
      "    \"\"\"\n",
      "\n",
      "    store = pd.HDFStore(hdf_path, 'r')\n",
      "    train_where = ['Year == 2013', \"Origin == '{}'\".format(Origin)]\n",
      "    train_data = store.select('flat_file', where=train_where)\n",
      "    if not suppress_print:\n",
      "        print 'Get Train data'\n",
      "        print '--------------'\n",
      "    train_data, train_x, train_y, train_label_encoders = prep_data(xcols, categoricals, train_data, condition, suppress_print)\n",
      "\n",
      "    test_where = ['Year == 2014', \"Origin == '{}'\".format(Origin)]\n",
      "    test_data = store.select('flat_file', where=test_where)\n",
      "    if not suppress_print:\n",
      "        print 'Get Test data'\n",
      "        print '--------------'\n",
      "    test_data, test_x, test_y, test_label_encoders = prep_data(xcols, categoricals, test_data, condition, suppress_print)\n",
      "\n",
      "    mdl.fit(train_x, train_y)\n",
      "    pr = mdl.predict(test_x)\n",
      "    cm = confusion_matrix(test_y, pr)\n",
      "    report = precision_recall_fscore_support(test_y, pr, average='binary')\n",
      "\n",
      "    # Feature Ranking\n",
      "    importances = mdl.feature_importances_\n",
      "    indices = np.argsort(importances)[::-1]\n",
      "    \n",
      "    if not suppress_print:\n",
      "        print 'Feature Ranking'\n",
      "        print '---------------'\n",
      "    cols = []\n",
      "    scores = []\n",
      "    for i in xrange(0, len(test_x.columns)):\n",
      "        col = test_x.columns[indices[i]]\n",
      "        score = importances[indices[i]]\n",
      "        if not suppress_print:\n",
      "            print 'feature {} ({})'.format(col, score)\n",
      "        cols.append(col)\n",
      "        scores.append(score)\n",
      "    \n",
      "    if not suppress_print:\n",
      "        print ''\n",
      "        print 'Confusion Matrix'\n",
      "        print '---------------'\n",
      "        print pd.DataFrame(cm)\n",
      "        print ' '\n",
      "        \n",
      "    feature_ranks = pd.DataFrame({'Feature': cols, 'Score': scores})\n",
      "    \n",
      "    stats = show_stats(report, accuracy_score(test_y, pr), suppress_print=suppress_print)\n",
      "\n",
      "    std = np.std([tree.feature_importances_ for tree in mdl.estimators_], axis=0)\n",
      "\n",
      "    if not suppress_print:\n",
      "        # Plot the feature importances of the forest\n",
      "        plt.figure()\n",
      "        plt.xticks(rotation=45)\n",
      "        plt.title(\"Feature importance\")\n",
      "        plt.bar(range(test_x.shape[1]), importances[indices],\n",
      "            color=\"r\", yerr=std[indices], align=\"center\")\n",
      "        plt.xticks(range(test_x.shape[1]), train_x.columns[indices])\n",
      "        plt.xlim([-1, test_x.shape[1]])\n",
      "        plt.show()\n",
      "\n",
      "    store.close()\n",
      "    \n",
      "    actual_delays = pd.DataFrame({'Delay Dist': test_y.value_counts(normalize=True)})\n",
      "    actual_delays.loc['Total', 'Delay Dist'] = len(test_y)\n",
      "    \n",
      "    return feature_ranks, stats, actual_delays"
     ],
     "language": "python",
     "metadata": {},
     "outputs": [],
     "prompt_number": 15
    },
    {
     "cell_type": "markdown",
     "metadata": {},
     "source": [
      "I'm going to use the ensemble method [RandomForestClassifier](http://scikit-learn.org/stable/modules/generated/sklearn.ensemble.RandomForestClassifier.html) as the model with `n_estimators=50`. This will be useful to prevent overfitting and also provides the very useful Feature importance rankings for us to gain more insight on the predictive power of each variable.\n",
      "\n",
      "Let's run the model"
     ]
    },
    {
     "cell_type": "code",
     "collapsed": false,
     "input": [
      "from sklearn.ensemble import RandomForestClassifier\n",
      "\n",
      "mdl = RandomForestClassifier(n_estimators=50, n_jobs=-1)\n",
      "test_model(mdl, Origin, xcols, categoricals)"
     ],
     "language": "python",
     "metadata": {},
     "outputs": [
      {
       "output_type": "stream",
       "stream": "stdout",
       "text": [
        "Get Train data\n",
        "--------------\n",
        "DayOfWeek has 0 nulls"
       ]
      },
      {
       "output_type": "stream",
       "stream": "stdout",
       "text": [
        "\n",
        "DayofMonth has 0 nulls"
       ]
      },
      {
       "output_type": "stream",
       "stream": "stdout",
       "text": [
        "\n",
        "Month has 0 nulls"
       ]
      },
      {
       "output_type": "stream",
       "stream": "stdout",
       "text": [
        "\n",
        "UniqueCarrier has 0 nulls"
       ]
      },
      {
       "output_type": "stream",
       "stream": "stdout",
       "text": [
        "\n",
        "Dest has 0 nulls"
       ]
      },
      {
       "output_type": "stream",
       "stream": "stdout",
       "text": [
        "\n",
        "Distance has 0 nulls"
       ]
      },
      {
       "output_type": "stream",
       "stream": "stdout",
       "text": [
        "\n",
        "AirTime has 238 nulls"
       ]
      },
      {
       "output_type": "stream",
       "stream": "stdout",
       "text": [
        "\n",
        "Hour has 0 nulls"
       ]
      },
      {
       "output_type": "stream",
       "stream": "stdout",
       "text": [
        "\n",
        "Delay has 0 nulls"
       ]
      },
      {
       "output_type": "stream",
       "stream": "stdout",
       "text": [
        "\n",
        "\n",
        "len before drop nulls: 109317"
       ]
      },
      {
       "output_type": "stream",
       "stream": "stdout",
       "text": [
        "\n",
        "len before drop nulls: 109079\n",
        "After removing nulls dataset reduced by 0%\n",
        "\n",
        "Delay Distribution\n",
        "False    86565\n",
        "True     22514\n",
        "Name: Delay, dtype: int64\n",
        "\n",
        "Get Test data"
       ]
      },
      {
       "output_type": "stream",
       "stream": "stdout",
       "text": [
        "\n",
        "--------------\n",
        "DayOfWeek has 0 nulls"
       ]
      },
      {
       "output_type": "stream",
       "stream": "stdout",
       "text": [
        "\n",
        "DayofMonth has 0 nulls"
       ]
      },
      {
       "output_type": "stream",
       "stream": "stdout",
       "text": [
        "\n",
        "Month has 0 nulls"
       ]
      },
      {
       "output_type": "stream",
       "stream": "stdout",
       "text": [
        "\n",
        "UniqueCarrier has 0 nulls"
       ]
      },
      {
       "output_type": "stream",
       "stream": "stdout",
       "text": [
        "\n",
        "Dest has 0 nulls"
       ]
      },
      {
       "output_type": "stream",
       "stream": "stdout",
       "text": [
        "\n",
        "Distance has 0 nulls"
       ]
      },
      {
       "output_type": "stream",
       "stream": "stdout",
       "text": [
        "\n",
        "AirTime has 209 nulls"
       ]
      },
      {
       "output_type": "stream",
       "stream": "stdout",
       "text": [
        "\n",
        "Hour has 0 nulls"
       ]
      },
      {
       "output_type": "stream",
       "stream": "stdout",
       "text": [
        "\n",
        "Delay has 0 nulls"
       ]
      },
      {
       "output_type": "stream",
       "stream": "stdout",
       "text": [
        "\n",
        "\n",
        "len before drop nulls: 98241"
       ]
      },
      {
       "output_type": "stream",
       "stream": "stdout",
       "text": [
        "\n",
        "len before drop nulls: 98032\n",
        "After removing nulls dataset reduced by 0%\n",
        "\n",
        "Delay Distribution\n",
        "False    79560\n",
        "True     18472\n",
        "Name: Delay, dtype: int64\n",
        "\n",
        "Feature Ranking"
       ]
      },
      {
       "output_type": "stream",
       "stream": "stdout",
       "text": [
        "\n",
        "---------------\n",
        "feature Hour (0.263297860923)\n",
        "feature AirTime (0.201436702104)\n",
        "feature DayofMonth (0.148176366906)\n",
        "feature Month (0.0974386753908)\n",
        "feature DayOfWeek (0.082487184947)\n",
        "feature Distance (0.0761047814394)\n",
        "feature Dest (0.0739104322518)\n",
        "feature UniqueCarrier (0.057147996038)\n",
        "\n",
        "Confusion Matrix\n",
        "---------------\n",
        "       0     1\n",
        "0  70675  8885\n",
        "1  11906  6566\n",
        " \n",
        "Precision: 0.42\n",
        "Recall: 0.36\n",
        "F1: 0.39\n",
        "Accuracy: 0.79\n"
       ]
      },
      {
       "metadata": {},
       "output_type": "display_data",
       "png": "[encoded data removed]",
       "text": [
        "<matplotlib.figure.Figure at 0x1dde1748>"
       ]
      },
      {
       "metadata": {},
       "output_type": "pyout",
       "prompt_number": 16,
       "text": [
        "(         Feature     Score\n",
        "0           Hour  0.263298\n",
        "1        AirTime  0.201437\n",
        "2     DayofMonth  0.148176\n",
        "3          Month  0.097439\n",
        "4      DayOfWeek  0.082487\n",
        "5       Distance  0.076105\n",
        "6           Dest  0.073910\n",
        "7  UniqueCarrier  0.057148,\n",
        "               value\n",
        "Precision  0.424956\n",
        "Recall     0.355457\n",
        "F1         0.387112\n",
        "Accuracy   0.787916,\n",
        "          Delay Dist\n",
        "False      0.811572\n",
        "True       0.188428\n",
        "Total  98032.000000)"
       ]
      }
     ],
     "prompt_number": 16
    },
    {
     "cell_type": "markdown",
     "metadata": {},
     "source": [
      "As expected `Hour` appears to be the most significant factor with both `AirTime` and `DayofMonth` both showing significance. The RandomForestClassifier shows no signs of over fitting with an accuracy of .79 and and F1 score .39"
     ]
    },
    {
     "cell_type": "markdown",
     "metadata": {},
     "source": [
      "## Adding Weather Data \n",
      "\n",
      "Now lets introduce some more data to the model. I am introducing daily weather information at both the Origin and Destination airport. Using daily weather information obtained [here](http://www.ncdc.noaa.gov/cdo-web/datasets/), historical daily weather metrics, specifically:\n",
      "\n",
      "      PRCP = Precipitation (tenths of mm, inches to hundredths on Daily Form pdf file)\n",
      "      SNOW = Snowfall (mm, inches to tenths on Daily Form pdf file)\n",
      "      SNWD = Snow depth (mm, inches on Daily Form pdf file)\n",
      "      TMAX = Maximum temperature ***\n",
      "      TMIN = Minimum temperature ***\n",
      "\n",
      "[source](http://www1.ncdc.noaa.gov/pub/data/cdo/documentation/GHCND_documentation.pdf)\n",
      "\n",
      "* In order to merge the daily weather data into our original dataset. We first need to use the given airport latitude and longitude data, to find the closest weather station availble to each airport using the handy `geopy` module. For details on this process see [here](https://github.com/robertdavidwest/airports/blob/master/airports/data/merge_data.py).\n",
      "* After completing this step to find the closest weather station to each airport we can simply merge on the weather variables at both the Origin and Destination airports reported at the closest station.\n",
      "\n",
      "After completing this step our dataset contains 2 new variables `Origin_airport_to_station` and `Dest_airport_to_station`, as well as the new independent variables mentioned. These two variables show exactly how far away the closest weather stations were to both the origin and destination airports. We can use these to imply a minimum distance, to ensure the weather data really does represent the weather at the airports."
     ]
    },
    {
     "cell_type": "code",
     "collapsed": false,
     "input": [
      "print 'Furthest Origin Weather Stations'\n",
      "print '--------------------------------'\n",
      "\n",
      "print 'Origin_airport_to_station furthest distances'\n",
      "print train_data['Origin_airport_to_station'].value_counts(dropna=False).sort_index(ascending=False).head(5)\n",
      "print ''\n",
      "print 'Dest_airport_to_station furthest distances'\n",
      "print train_data['Dest_airport_to_station'].value_counts(dropna=False).sort_index(ascending=False).head(5)\n",
      "\n",
      "# The distributions seems to show that each weather station is a reaonable distance away from the each airport\n",
      "# to give us a clean dataset if the data is refreshed, we will only keep rows that contain airports with a weather station within 10 miles\n",
      "condition = \"(Origin_airport_to_station < 10) & (Dest_airport_to_station < 10)\""
     ],
     "language": "python",
     "metadata": {},
     "outputs": [
      {
       "output_type": "stream",
       "stream": "stdout",
       "text": [
        "Furthest Origin Weather Stations\n",
        "--------------------------------\n",
        "Origin_airport_to_station furthest distances\n",
        "0.88273    109079\n",
        "Name: Origin_airport_to_station, dtype: int64\n",
        "\n",
        "Dest_airport_to_station furthest distances\n",
        "3.127604       2\n",
        "1.838792    2231\n",
        "1.624245    1114\n",
        "1.620909    3285\n",
        "1.216406     271\n",
        "Name: Dest_airport_to_station, dtype: int64\n"
       ]
      }
     ],
     "prompt_number": 17
    },
    {
     "cell_type": "code",
     "collapsed": false,
     "input": [
      "weather_origin_cols = [\n",
      "    u'OriginPRCP', u'OriginSNOW', u'OriginSNWD',\n",
      "    u'OriginTMAX', u'OriginTMIN'\n",
      "]\n",
      "weather_dest_cols = [\n",
      "    u'DestPRCP', u'DestSNOW', u'DestSNWD',\n",
      "    u'DestTMAX', u'DestTMIN'\n",
      "]\n",
      "weather_cols = weather_origin_cols + weather_dest_cols\n",
      "xcols.extend(weather_cols) \n",
      "test_model(mdl, Origin, xcols, categoricals, condition)"
     ],
     "language": "python",
     "metadata": {},
     "outputs": [
      {
       "output_type": "stream",
       "stream": "stdout",
       "text": [
        "Get Train data\n",
        "--------------\n",
        "111279\n",
        "\n",
        "after imposing the condition: (Origin_airport_to_station < 10) & (Dest_airport_to_station < 10)\n",
        "the dataset was reduced by 0%\n",
        "DayOfWeek has 0 nulls"
       ]
      },
      {
       "output_type": "stream",
       "stream": "stdout",
       "text": [
        "\n",
        "DayofMonth has 0 nulls"
       ]
      },
      {
       "output_type": "stream",
       "stream": "stdout",
       "text": [
        "\n",
        "Month has 0 nulls"
       ]
      },
      {
       "output_type": "stream",
       "stream": "stdout",
       "text": [
        "\n",
        "UniqueCarrier has 0 nulls"
       ]
      },
      {
       "output_type": "stream",
       "stream": "stdout",
       "text": [
        "\n",
        "Dest has 0 nulls"
       ]
      },
      {
       "output_type": "stream",
       "stream": "stdout",
       "text": [
        "\n",
        "Distance has 0 nulls"
       ]
      },
      {
       "output_type": "stream",
       "stream": "stdout",
       "text": [
        "\n",
        "AirTime has 238 nulls"
       ]
      },
      {
       "output_type": "stream",
       "stream": "stdout",
       "text": [
        "\n",
        "Hour has 0 nulls"
       ]
      },
      {
       "output_type": "stream",
       "stream": "stdout",
       "text": [
        "\n",
        "OriginPRCP has 0 nulls"
       ]
      },
      {
       "output_type": "stream",
       "stream": "stdout",
       "text": [
        "\n",
        "OriginSNOW has 0 nulls"
       ]
      },
      {
       "output_type": "stream",
       "stream": "stdout",
       "text": [
        "\n",
        "OriginSNWD has 0 nulls"
       ]
      },
      {
       "output_type": "stream",
       "stream": "stdout",
       "text": [
        "\n",
        "OriginTMAX has 0 nulls"
       ]
      },
      {
       "output_type": "stream",
       "stream": "stdout",
       "text": [
        "\n",
        "OriginTMIN has 0 nulls"
       ]
      },
      {
       "output_type": "stream",
       "stream": "stdout",
       "text": [
        "\n",
        "DestPRCP has 9102 nulls"
       ]
      },
      {
       "output_type": "stream",
       "stream": "stdout",
       "text": [
        "\n",
        "DestSNOW has 22271 nulls"
       ]
      },
      {
       "output_type": "stream",
       "stream": "stdout",
       "text": [
        "\n",
        "DestSNWD has 27378 nulls"
       ]
      },
      {
       "output_type": "stream",
       "stream": "stdout",
       "text": [
        "\n",
        "DestTMAX has 9101 nulls"
       ]
      },
      {
       "output_type": "stream",
       "stream": "stdout",
       "text": [
        "\n",
        "DestTMIN has 9101 nulls"
       ]
      },
      {
       "output_type": "stream",
       "stream": "stdout",
       "text": [
        "\n",
        "Delay has 0 nulls"
       ]
      },
      {
       "output_type": "stream",
       "stream": "stdout",
       "text": [
        "\n",
        "\n",
        "len before drop nulls: 109317"
       ]
      },
      {
       "output_type": "stream",
       "stream": "stdout",
       "text": [
        "\n",
        "len before drop nulls: 80990\n",
        "After removing nulls dataset reduced by 25%\n",
        "\n",
        "Delay Distribution\n",
        "False    64177\n",
        "True     16813\n",
        "Name: Delay, dtype: int64\n",
        "\n",
        "Get Test data"
       ]
      },
      {
       "output_type": "stream",
       "stream": "stdout",
       "text": [
        "\n",
        "--------------\n",
        "100560\n",
        "\n",
        "after imposing the condition: (Origin_airport_to_station < 10) & (Dest_airport_to_station < 10)\n",
        "the dataset was reduced by 0%\n",
        "DayOfWeek has 0 nulls"
       ]
      },
      {
       "output_type": "stream",
       "stream": "stdout",
       "text": [
        "\n",
        "DayofMonth has 0 nulls"
       ]
      },
      {
       "output_type": "stream",
       "stream": "stdout",
       "text": [
        "\n",
        "Month has 0 nulls"
       ]
      },
      {
       "output_type": "stream",
       "stream": "stdout",
       "text": [
        "\n",
        "UniqueCarrier has 0 nulls"
       ]
      },
      {
       "output_type": "stream",
       "stream": "stdout",
       "text": [
        "\n",
        "Dest has 0 nulls"
       ]
      },
      {
       "output_type": "stream",
       "stream": "stdout",
       "text": [
        "\n",
        "Distance has 0 nulls"
       ]
      },
      {
       "output_type": "stream",
       "stream": "stdout",
       "text": [
        "\n",
        "AirTime has 209 nulls"
       ]
      },
      {
       "output_type": "stream",
       "stream": "stdout",
       "text": [
        "\n",
        "Hour has 0 nulls"
       ]
      },
      {
       "output_type": "stream",
       "stream": "stdout",
       "text": [
        "\n",
        "OriginPRCP has 0 nulls"
       ]
      },
      {
       "output_type": "stream",
       "stream": "stdout",
       "text": [
        "\n",
        "OriginSNOW has 0 nulls"
       ]
      },
      {
       "output_type": "stream",
       "stream": "stdout",
       "text": [
        "\n",
        "OriginSNWD has 0 nulls"
       ]
      },
      {
       "output_type": "stream",
       "stream": "stdout",
       "text": [
        "\n",
        "OriginTMAX has 0 nulls"
       ]
      },
      {
       "output_type": "stream",
       "stream": "stdout",
       "text": [
        "\n",
        "OriginTMIN has 0 nulls"
       ]
      },
      {
       "output_type": "stream",
       "stream": "stdout",
       "text": [
        "\n",
        "DestPRCP has 6291 nulls"
       ]
      },
      {
       "output_type": "stream",
       "stream": "stdout",
       "text": [
        "\n",
        "DestSNOW has 9958 nulls"
       ]
      },
      {
       "output_type": "stream",
       "stream": "stdout",
       "text": [
        "\n",
        "DestSNWD has 13597 nulls"
       ]
      },
      {
       "output_type": "stream",
       "stream": "stdout",
       "text": [
        "\n",
        "DestTMAX has 6338 nulls"
       ]
      },
      {
       "output_type": "stream",
       "stream": "stdout",
       "text": [
        "\n",
        "DestTMIN has 6338 nulls"
       ]
      },
      {
       "output_type": "stream",
       "stream": "stdout",
       "text": [
        "\n",
        "Delay has 0 nulls"
       ]
      },
      {
       "output_type": "stream",
       "stream": "stdout",
       "text": [
        "\n",
        "\n",
        "len before drop nulls: 98241"
       ]
      },
      {
       "output_type": "stream",
       "stream": "stdout",
       "text": [
        "\n",
        "len before drop nulls: 83742\n",
        "After removing nulls dataset reduced by 14%\n",
        "\n",
        "Delay Distribution\n",
        "False    68152\n",
        "True     15590\n",
        "Name: Delay, dtype: int64\n",
        "\n",
        "Feature Ranking"
       ]
      },
      {
       "output_type": "stream",
       "stream": "stdout",
       "text": [
        "\n",
        "---------------\n",
        "feature Hour (0.243715719009)\n",
        "feature AirTime (0.150722404935)\n",
        "feature DestTMAX (0.0681543673897)\n",
        "feature DestTMIN (0.0676680363598)\n",
        "feature UniqueCarrier (0.06401138027)\n",
        "feature OriginTMIN (0.0549789820864)\n",
        "feature Distance (0.0515465585664)\n",
        "feature Dest (0.0511035639434)\n",
        "feature DayofMonth (0.0499967863242)\n",
        "feature OriginTMAX (0.0485863038774)\n",
        "feature OriginPRCP (0.0394046692351)\n",
        "feature DayOfWeek (0.032792571511)\n",
        "feature DestPRCP (0.0319338477656)\n",
        "feature Month (0.0316704698327)\n",
        "feature OriginSNOW (0.00407052276543)\n",
        "feature DestSNWD (0.00399302627498)\n",
        "feature DestSNOW (0.00359926322492)\n",
        "feature OriginSNWD (0.00205152662899)\n",
        "\n",
        "Confusion Matrix\n",
        "---------------\n",
        "       0     1\n",
        "0  64506  3646\n",
        "1  11469  4121\n",
        " \n",
        "Precision: 0.53\n",
        "Recall: 0.26\n",
        "F1: 0.35\n",
        "Accuracy: 0.82\n"
       ]
      },
      {
       "metadata": {},
       "output_type": "display_data",
       "png": "[encoded data removed]",
       "text": [
        "<matplotlib.figure.Figure at 0x1fcbeef0>"
       ]
      },
      {
       "metadata": {},
       "output_type": "pyout",
       "prompt_number": 18,
       "text": [
        "(          Feature     Score\n",
        "0            Hour  0.243716\n",
        "1         AirTime  0.150722\n",
        "2        DestTMAX  0.068154\n",
        "3        DestTMIN  0.067668\n",
        "4   UniqueCarrier  0.064011\n",
        "5      OriginTMIN  0.054979\n",
        "6        Distance  0.051547\n",
        "7            Dest  0.051104\n",
        "8      DayofMonth  0.049997\n",
        "9      OriginTMAX  0.048586\n",
        "10     OriginPRCP  0.039405\n",
        "11      DayOfWeek  0.032793\n",
        "12       DestPRCP  0.031934\n",
        "13          Month  0.031670\n",
        "14     OriginSNOW  0.004071\n",
        "15       DestSNWD  0.003993\n",
        "16       DestSNOW  0.003599\n",
        "17     OriginSNWD  0.002052,\n",
        "               value\n",
        "Precision  0.530578\n",
        "Recall     0.264336\n",
        "F1         0.352871\n",
        "Accuracy   0.819505,\n",
        "          Delay Dist\n",
        "False      0.813833\n",
        "True       0.186167\n",
        "Total  83742.000000)"
       ]
      }
     ],
     "prompt_number": 18
    },
    {
     "cell_type": "markdown",
     "metadata": {},
     "source": [
      "For a slighty reduced F1 score we have improved accuracy of .82 but its not a great lift.\n",
      "\n",
      "Also, adding the weather data to the model reduced the dataset length by 14% due to missing values. It appears that the SNOW variables have no real explaining power and do in fact have the most missing values, so its an easy decsision to remove these variables from the model."
     ]
    },
    {
     "cell_type": "code",
     "collapsed": false,
     "input": [
      "snow_cols = ['OriginSNOW', u'OriginSNWD', 'DestSNOW', u'DestSNWD']\n",
      "for c in snow_cols:\n",
      "    xcols.remove(c)\n",
      "test_model(mdl, Origin, xcols, categoricals, condition)"
     ],
     "language": "python",
     "metadata": {},
     "outputs": [
      {
       "output_type": "stream",
       "stream": "stdout",
       "text": [
        "Get Train data\n",
        "--------------\n",
        "111279"
       ]
      },
      {
       "output_type": "stream",
       "stream": "stdout",
       "text": [
        "\n",
        "\n",
        "after imposing the condition: (Origin_airport_to_station < 10) & (Dest_airport_to_station < 10)\n",
        "the dataset was reduced by 0%\n",
        "DayOfWeek has 0 nulls"
       ]
      },
      {
       "output_type": "stream",
       "stream": "stdout",
       "text": [
        "\n",
        "DayofMonth has 0 nulls"
       ]
      },
      {
       "output_type": "stream",
       "stream": "stdout",
       "text": [
        "\n",
        "Month has 0 nulls"
       ]
      },
      {
       "output_type": "stream",
       "stream": "stdout",
       "text": [
        "\n",
        "UniqueCarrier has 0 nulls"
       ]
      },
      {
       "output_type": "stream",
       "stream": "stdout",
       "text": [
        "\n",
        "Dest has 0 nulls"
       ]
      },
      {
       "output_type": "stream",
       "stream": "stdout",
       "text": [
        "\n",
        "Distance has 0 nulls"
       ]
      },
      {
       "output_type": "stream",
       "stream": "stdout",
       "text": [
        "\n",
        "AirTime has 238 nulls"
       ]
      },
      {
       "output_type": "stream",
       "stream": "stdout",
       "text": [
        "\n",
        "Hour has 0 nulls"
       ]
      },
      {
       "output_type": "stream",
       "stream": "stdout",
       "text": [
        "\n",
        "OriginPRCP has 0 nulls"
       ]
      },
      {
       "output_type": "stream",
       "stream": "stdout",
       "text": [
        "\n",
        "OriginTMAX has 0 nulls"
       ]
      },
      {
       "output_type": "stream",
       "stream": "stdout",
       "text": [
        "\n",
        "OriginTMIN has 0 nulls"
       ]
      },
      {
       "output_type": "stream",
       "stream": "stdout",
       "text": [
        "\n",
        "DestPRCP has 9102 nulls"
       ]
      },
      {
       "output_type": "stream",
       "stream": "stdout",
       "text": [
        "\n",
        "DestTMAX has 9101 nulls"
       ]
      },
      {
       "output_type": "stream",
       "stream": "stdout",
       "text": [
        "\n",
        "DestTMIN has 9101 nulls"
       ]
      },
      {
       "output_type": "stream",
       "stream": "stdout",
       "text": [
        "\n",
        "Delay has 0 nulls"
       ]
      },
      {
       "output_type": "stream",
       "stream": "stdout",
       "text": [
        "\n",
        "\n",
        "len before drop nulls: 109317"
       ]
      },
      {
       "output_type": "stream",
       "stream": "stdout",
       "text": [
        "\n",
        "len before drop nulls: 99822\n",
        "After removing nulls dataset reduced by 8%\n",
        "\n",
        "Delay Distribution\n",
        "False    79543\n",
        "True     20279\n",
        "Name: Delay, dtype: int64\n",
        "\n",
        "Get Test data"
       ]
      },
      {
       "output_type": "stream",
       "stream": "stdout",
       "text": [
        "\n",
        "--------------\n",
        "100560\n",
        "\n",
        "after imposing the condition: (Origin_airport_to_station < 10) & (Dest_airport_to_station < 10)\n",
        "the dataset was reduced by 0%\n",
        "DayOfWeek has 0 nulls"
       ]
      },
      {
       "output_type": "stream",
       "stream": "stdout",
       "text": [
        "\n",
        "DayofMonth has 0 nulls"
       ]
      },
      {
       "output_type": "stream",
       "stream": "stdout",
       "text": [
        "\n",
        "Month has 0 nulls"
       ]
      },
      {
       "output_type": "stream",
       "stream": "stdout",
       "text": [
        "\n",
        "UniqueCarrier has 0 nulls"
       ]
      },
      {
       "output_type": "stream",
       "stream": "stdout",
       "text": [
        "\n",
        "Dest has 0 nulls"
       ]
      },
      {
       "output_type": "stream",
       "stream": "stdout",
       "text": [
        "\n",
        "Distance has 0 nulls"
       ]
      },
      {
       "output_type": "stream",
       "stream": "stdout",
       "text": [
        "\n",
        "AirTime has 209 nulls"
       ]
      },
      {
       "output_type": "stream",
       "stream": "stdout",
       "text": [
        "\n",
        "Hour has 0 nulls"
       ]
      },
      {
       "output_type": "stream",
       "stream": "stdout",
       "text": [
        "\n",
        "OriginPRCP has 0 nulls"
       ]
      },
      {
       "output_type": "stream",
       "stream": "stdout",
       "text": [
        "\n",
        "OriginTMAX has 0 nulls"
       ]
      },
      {
       "output_type": "stream",
       "stream": "stdout",
       "text": [
        "\n",
        "OriginTMIN has 0 nulls"
       ]
      },
      {
       "output_type": "stream",
       "stream": "stdout",
       "text": [
        "\n",
        "DestPRCP has 6291 nulls"
       ]
      },
      {
       "output_type": "stream",
       "stream": "stdout",
       "text": [
        "\n",
        "DestTMAX has 6338 nulls"
       ]
      },
      {
       "output_type": "stream",
       "stream": "stdout",
       "text": [
        "\n",
        "DestTMIN has 6338 nulls"
       ]
      },
      {
       "output_type": "stream",
       "stream": "stdout",
       "text": [
        "\n",
        "Delay has 0 nulls"
       ]
      },
      {
       "output_type": "stream",
       "stream": "stdout",
       "text": [
        "\n",
        "\n",
        "len before drop nulls: 98241"
       ]
      },
      {
       "output_type": "stream",
       "stream": "stdout",
       "text": [
        "\n",
        "len before drop nulls: 91569\n",
        "After removing nulls dataset reduced by 6%\n",
        "\n",
        "Delay Distribution\n",
        "False    74399\n",
        "True     17170\n",
        "Name: Delay, dtype: int64\n",
        "\n",
        "Feature Ranking"
       ]
      },
      {
       "output_type": "stream",
       "stream": "stdout",
       "text": [
        "\n",
        "---------------\n",
        "feature Hour (0.239933559585)\n",
        "feature AirTime (0.153783650921)\n",
        "feature DestTMAX (0.0708064040284)\n",
        "feature DestTMIN (0.0705345269636)\n",
        "feature UniqueCarrier (0.0634488634836)\n",
        "feature OriginTMIN (0.0555928674126)\n",
        "feature Distance (0.0539993118194)\n",
        "feature Dest (0.0531819955363)\n",
        "feature DayofMonth (0.0510284750752)\n",
        "feature OriginTMAX (0.0500975924272)\n",
        "feature OriginPRCP (0.0393903248573)\n",
        "feature DestPRCP (0.0335543695122)\n",
        "feature DayOfWeek (0.0327875944476)\n",
        "feature Month (0.0318604639309)\n",
        "\n",
        "Confusion Matrix\n",
        "---------------\n",
        "       0     1\n",
        "0  71176  3223\n",
        "1  13079  4091\n",
        " \n",
        "Precision: 0.56\n",
        "Recall: 0.24\n",
        "F1: 0.33\n",
        "Accuracy: 0.82\n"
       ]
      },
      {
       "metadata": {},
       "output_type": "display_data",
       "png": "[encoded data removed]",
       "text": [
        "<matplotlib.figure.Figure at 0x286474e0>"
       ]
      },
      {
       "metadata": {},
       "output_type": "pyout",
       "prompt_number": 19,
       "text": [
        "(          Feature     Score\n",
        "0            Hour  0.239934\n",
        "1         AirTime  0.153784\n",
        "2        DestTMAX  0.070806\n",
        "3        DestTMIN  0.070535\n",
        "4   UniqueCarrier  0.063449\n",
        "5      OriginTMIN  0.055593\n",
        "6        Distance  0.053999\n",
        "7            Dest  0.053182\n",
        "8      DayofMonth  0.051028\n",
        "9      OriginTMAX  0.050098\n",
        "10     OriginPRCP  0.039390\n",
        "11       DestPRCP  0.033554\n",
        "12      DayOfWeek  0.032788\n",
        "13          Month  0.031860,\n",
        "               value\n",
        "Precision  0.559338\n",
        "Recall     0.238264\n",
        "F1         0.334177\n",
        "Accuracy   0.821970,\n",
        "          Delay Dist\n",
        "False      0.812491\n",
        "True       0.187509\n",
        "Total  91569.000000)"
       ]
      }
     ],
     "prompt_number": 19
    },
    {
     "cell_type": "markdown",
     "metadata": {},
     "source": [
      "a slight increase in precision, with everything else in tact. The variables 'OriginPRCP', 'DestPRCP', 'DayOfWeek', 'Month' don't appear to add much value either and while 'Dest' holds a little more, recall that is was quite highly correleted with 'AirTime'"
     ]
    },
    {
     "cell_type": "code",
     "collapsed": false,
     "input": [
      "for c in ['OriginPRCP', 'DestPRCP', 'DayOfWeek', 'Month']:\n",
      "    xcols.remove(c)\n",
      "test_model(mdl, Origin, xcols, categoricals, condition)"
     ],
     "language": "python",
     "metadata": {},
     "outputs": [
      {
       "output_type": "stream",
       "stream": "stdout",
       "text": [
        "Get Train data\n",
        "--------------\n",
        "111279"
       ]
      },
      {
       "output_type": "stream",
       "stream": "stdout",
       "text": [
        "\n",
        "\n",
        "after imposing the condition: (Origin_airport_to_station < 10) & (Dest_airport_to_station < 10)\n",
        "the dataset was reduced by 0%\n",
        "DayofMonth has 0 nulls"
       ]
      },
      {
       "output_type": "stream",
       "stream": "stdout",
       "text": [
        "\n",
        "UniqueCarrier has 0 nulls"
       ]
      },
      {
       "output_type": "stream",
       "stream": "stdout",
       "text": [
        "\n",
        "Dest has 0 nulls"
       ]
      },
      {
       "output_type": "stream",
       "stream": "stdout",
       "text": [
        "\n",
        "Distance has 0 nulls"
       ]
      },
      {
       "output_type": "stream",
       "stream": "stdout",
       "text": [
        "\n",
        "AirTime has 238 nulls"
       ]
      },
      {
       "output_type": "stream",
       "stream": "stdout",
       "text": [
        "\n",
        "Hour has 0 nulls"
       ]
      },
      {
       "output_type": "stream",
       "stream": "stdout",
       "text": [
        "\n",
        "OriginTMAX has 0 nulls"
       ]
      },
      {
       "output_type": "stream",
       "stream": "stdout",
       "text": [
        "\n",
        "OriginTMIN has 0 nulls"
       ]
      },
      {
       "output_type": "stream",
       "stream": "stdout",
       "text": [
        "\n",
        "DestTMAX has 9101 nulls"
       ]
      },
      {
       "output_type": "stream",
       "stream": "stdout",
       "text": [
        "\n",
        "DestTMIN has 9101 nulls"
       ]
      },
      {
       "output_type": "stream",
       "stream": "stdout",
       "text": [
        "\n",
        "Delay has 0 nulls"
       ]
      },
      {
       "output_type": "stream",
       "stream": "stdout",
       "text": [
        "\n",
        "\n",
        "len before drop nulls: 109317"
       ]
      },
      {
       "output_type": "stream",
       "stream": "stdout",
       "text": [
        "\n",
        "len before drop nulls: 99989\n",
        "After removing nulls dataset reduced by 8%\n",
        "\n",
        "Delay Distribution\n",
        "False    79667\n",
        "True     20322\n",
        "Name: Delay, dtype: int64\n",
        "\n",
        "Get Test data"
       ]
      },
      {
       "output_type": "stream",
       "stream": "stdout",
       "text": [
        "\n",
        "--------------\n",
        "100560\n",
        "\n",
        "after imposing the condition: (Origin_airport_to_station < 10) & (Dest_airport_to_station < 10)\n",
        "the dataset was reduced by 0%\n",
        "DayofMonth has 0 nulls"
       ]
      },
      {
       "output_type": "stream",
       "stream": "stdout",
       "text": [
        "\n",
        "UniqueCarrier has 0 nulls"
       ]
      },
      {
       "output_type": "stream",
       "stream": "stdout",
       "text": [
        "\n",
        "Dest has 0 nulls"
       ]
      },
      {
       "output_type": "stream",
       "stream": "stdout",
       "text": [
        "\n",
        "Distance has 0 nulls"
       ]
      },
      {
       "output_type": "stream",
       "stream": "stdout",
       "text": [
        "\n",
        "AirTime has 209 nulls"
       ]
      },
      {
       "output_type": "stream",
       "stream": "stdout",
       "text": [
        "\n",
        "Hour has 0 nulls"
       ]
      },
      {
       "output_type": "stream",
       "stream": "stdout",
       "text": [
        "\n",
        "OriginTMAX has 0 nulls"
       ]
      },
      {
       "output_type": "stream",
       "stream": "stdout",
       "text": [
        "\n",
        "OriginTMIN has 0 nulls"
       ]
      },
      {
       "output_type": "stream",
       "stream": "stdout",
       "text": [
        "\n",
        "DestTMAX has 6338 nulls"
       ]
      },
      {
       "output_type": "stream",
       "stream": "stdout",
       "text": [
        "\n",
        "DestTMIN has 6338 nulls"
       ]
      },
      {
       "output_type": "stream",
       "stream": "stdout",
       "text": [
        "\n",
        "Delay has 0 nulls"
       ]
      },
      {
       "output_type": "stream",
       "stream": "stdout",
       "text": [
        "\n",
        "\n",
        "len before drop nulls: 98241"
       ]
      },
      {
       "output_type": "stream",
       "stream": "stdout",
       "text": [
        "\n",
        "len before drop nulls: 91706\n",
        "After removing nulls dataset reduced by 6%\n",
        "\n",
        "Delay Distribution\n",
        "False    74497\n",
        "True     17209\n",
        "Name: Delay, dtype: int64\n",
        "\n",
        "Feature Ranking"
       ]
      },
      {
       "output_type": "stream",
       "stream": "stdout",
       "text": [
        "\n",
        "---------------\n",
        "feature Hour (0.238027142503)\n",
        "feature AirTime (0.154864431094)\n",
        "feature DestTMAX (0.0915470638057)\n",
        "feature DestTMIN (0.0908900566796)\n",
        "feature OriginTMIN (0.0901580791968)\n",
        "feature DayofMonth (0.0832290485101)\n",
        "feature OriginTMAX (0.0819281855005)\n",
        "feature UniqueCarrier (0.0591800081121)\n",
        "feature Distance (0.0558398611572)\n",
        "feature Dest (0.0543361234406)\n",
        "\n",
        "Confusion Matrix\n",
        "---------------\n",
        "       0     1\n",
        "0  68510  5987\n",
        "1  11654  5555\n",
        " \n",
        "Precision: 0.48\n",
        "Recall: 0.32\n",
        "F1: 0.39\n",
        "Accuracy: 0.81\n"
       ]
      },
      {
       "metadata": {},
       "output_type": "display_data",
       "png": "[encoded data removed]",
       "text": [
        "<matplotlib.figure.Figure at 0x284f90f0>"
       ]
      },
      {
       "metadata": {},
       "output_type": "pyout",
       "prompt_number": 20,
       "text": [
        "(         Feature     Score\n",
        "0           Hour  0.238027\n",
        "1        AirTime  0.154864\n",
        "2       DestTMAX  0.091547\n",
        "3       DestTMIN  0.090890\n",
        "4     OriginTMIN  0.090158\n",
        "5     DayofMonth  0.083229\n",
        "6     OriginTMAX  0.081928\n",
        "7  UniqueCarrier  0.059180\n",
        "8       Distance  0.055840\n",
        "9           Dest  0.054336,\n",
        "               value\n",
        "Precision  0.481286\n",
        "Recall     0.322796\n",
        "F1         0.386421\n",
        "Accuracy   0.807635,\n",
        "          Delay Dist\n",
        "False      0.812346\n",
        "True       0.187654\n",
        "Total  91706.000000)"
       ]
      }
     ],
     "prompt_number": 20
    },
    {
     "cell_type": "markdown",
     "metadata": {},
     "source": [
      "We've now managed to match our original F1 score of .39 but with an improved precision and accuracy!"
     ]
    },
    {
     "cell_type": "markdown",
     "metadata": {},
     "source": [
      "## Adding Aircraft level data\n",
      "\n",
      "Finally we add some Aircraft level variables to the dataset, obtained using the given TailNum available in the flight data, coupled with information scraped from this site (http://registry.faa.gov/aircraftinquiry/NNum_Results.aspx?NNumbertxt=N325US). \n",
      "\n",
      "From here I was able to obtain aircraft specific information including the Engine Model, Model, Manufacturer and age of the plane. Lets see how these variables fair in the model.\n",
      "\n",
      "For details on how the data was obtained see: [Scraper](https://github.com/robertdavidwest/airports/blob/master/airports/data/get_plane_level_info.py)\n"
     ]
    },
    {
     "cell_type": "code",
     "collapsed": false,
     "input": [
      "aircraft_cols = [u'Engine Model', u'MFR Year', u'Manufacturer Name',\n",
      "                     u'Model']\n",
      "\n",
      "xcols.extend(aircraft_cols)\n",
      "categoricals.extend(aircraft_cols)\n",
      "test_model(mdl, Origin, xcols, categoricals, condition)"
     ],
     "language": "python",
     "metadata": {},
     "outputs": [
      {
       "output_type": "stream",
       "stream": "stdout",
       "text": [
        "Get Train data\n",
        "--------------\n",
        "111279"
       ]
      },
      {
       "output_type": "stream",
       "stream": "stdout",
       "text": [
        "\n",
        "\n",
        "after imposing the condition: (Origin_airport_to_station < 10) & (Dest_airport_to_station < 10)\n",
        "the dataset was reduced by 0%\n",
        "DayofMonth has 0 nulls"
       ]
      },
      {
       "output_type": "stream",
       "stream": "stdout",
       "text": [
        "\n",
        "UniqueCarrier has 0 nulls"
       ]
      },
      {
       "output_type": "stream",
       "stream": "stdout",
       "text": [
        "\n",
        "Dest has 0 nulls"
       ]
      },
      {
       "output_type": "stream",
       "stream": "stdout",
       "text": [
        "\n",
        "Distance has 0 nulls"
       ]
      },
      {
       "output_type": "stream",
       "stream": "stdout",
       "text": [
        "\n",
        "AirTime has 238 nulls"
       ]
      },
      {
       "output_type": "stream",
       "stream": "stdout",
       "text": [
        "\n",
        "Hour has 0 nulls"
       ]
      },
      {
       "output_type": "stream",
       "stream": "stdout",
       "text": [
        "\n",
        "OriginTMAX has 0 nulls"
       ]
      },
      {
       "output_type": "stream",
       "stream": "stdout",
       "text": [
        "\n",
        "OriginTMIN has 0 nulls"
       ]
      },
      {
       "output_type": "stream",
       "stream": "stdout",
       "text": [
        "\n",
        "DestTMAX has 9101 nulls"
       ]
      },
      {
       "output_type": "stream",
       "stream": "stdout",
       "text": [
        "\n",
        "DestTMIN has 9101 nulls"
       ]
      },
      {
       "output_type": "stream",
       "stream": "stdout",
       "text": [
        "\n",
        "Engine Model has 0 nulls"
       ]
      },
      {
       "output_type": "stream",
       "stream": "stdout",
       "text": [
        "\n",
        "MFR Year has 0 nulls"
       ]
      },
      {
       "output_type": "stream",
       "stream": "stdout",
       "text": [
        "\n",
        "Manufacturer Name has 0 nulls"
       ]
      },
      {
       "output_type": "stream",
       "stream": "stdout",
       "text": [
        "\n",
        "Model has 0 nulls"
       ]
      },
      {
       "output_type": "stream",
       "stream": "stdout",
       "text": [
        "\n",
        "Delay has 0 nulls"
       ]
      },
      {
       "output_type": "stream",
       "stream": "stdout",
       "text": [
        "\n",
        "\n",
        "len before drop nulls: 109317"
       ]
      },
      {
       "output_type": "stream",
       "stream": "stdout",
       "text": [
        "\n",
        "len before drop nulls: 99989\n",
        "After removing nulls dataset reduced by 8%\n",
        "\n",
        "Delay Distribution\n",
        "False    79667\n",
        "True     20322\n",
        "Name: Delay, dtype: int64\n",
        "\n",
        "Get Test data"
       ]
      },
      {
       "output_type": "stream",
       "stream": "stdout",
       "text": [
        "\n",
        "--------------\n",
        "100560\n",
        "\n",
        "after imposing the condition: (Origin_airport_to_station < 10) & (Dest_airport_to_station < 10)\n",
        "the dataset was reduced by 0%\n",
        "DayofMonth has 0 nulls"
       ]
      },
      {
       "output_type": "stream",
       "stream": "stdout",
       "text": [
        "\n",
        "UniqueCarrier has 0 nulls"
       ]
      },
      {
       "output_type": "stream",
       "stream": "stdout",
       "text": [
        "\n",
        "Dest has 0 nulls"
       ]
      },
      {
       "output_type": "stream",
       "stream": "stdout",
       "text": [
        "\n",
        "Distance has 0 nulls"
       ]
      },
      {
       "output_type": "stream",
       "stream": "stdout",
       "text": [
        "\n",
        "AirTime has 209 nulls"
       ]
      },
      {
       "output_type": "stream",
       "stream": "stdout",
       "text": [
        "\n",
        "Hour has 0 nulls"
       ]
      },
      {
       "output_type": "stream",
       "stream": "stdout",
       "text": [
        "\n",
        "OriginTMAX has 0 nulls"
       ]
      },
      {
       "output_type": "stream",
       "stream": "stdout",
       "text": [
        "\n",
        "OriginTMIN has 0 nulls"
       ]
      },
      {
       "output_type": "stream",
       "stream": "stdout",
       "text": [
        "\n",
        "DestTMAX has 6338 nulls"
       ]
      },
      {
       "output_type": "stream",
       "stream": "stdout",
       "text": [
        "\n",
        "DestTMIN has 6338 nulls"
       ]
      },
      {
       "output_type": "stream",
       "stream": "stdout",
       "text": [
        "\n",
        "Engine Model has 0 nulls"
       ]
      },
      {
       "output_type": "stream",
       "stream": "stdout",
       "text": [
        "\n",
        "MFR Year has 0 nulls"
       ]
      },
      {
       "output_type": "stream",
       "stream": "stdout",
       "text": [
        "\n",
        "Manufacturer Name has 0 nulls"
       ]
      },
      {
       "output_type": "stream",
       "stream": "stdout",
       "text": [
        "\n",
        "Model has 0 nulls"
       ]
      },
      {
       "output_type": "stream",
       "stream": "stdout",
       "text": [
        "\n",
        "Delay has 0 nulls"
       ]
      },
      {
       "output_type": "stream",
       "stream": "stdout",
       "text": [
        "\n",
        "\n",
        "len before drop nulls: 98241"
       ]
      },
      {
       "output_type": "stream",
       "stream": "stdout",
       "text": [
        "\n",
        "len before drop nulls: 91706\n",
        "After removing nulls dataset reduced by 6%\n",
        "\n",
        "Delay Distribution\n",
        "False    74497\n",
        "True     17209\n",
        "Name: Delay, dtype: int64\n",
        "\n",
        "Feature Ranking"
       ]
      },
      {
       "output_type": "stream",
       "stream": "stdout",
       "text": [
        "\n",
        "---------------\n",
        "feature Hour (0.228120002902)\n",
        "feature AirTime (0.119857449781)\n",
        "feature OriginTMIN (0.0900376453357)\n",
        "feature DestTMAX (0.0853772449918)\n",
        "feature DestTMIN (0.0846897557347)\n",
        "feature OriginTMAX (0.082095582331)\n",
        "feature DayofMonth (0.0810408679288)\n",
        "feature MFR Year (0.0536658467252)\n",
        "feature Dest (0.0470659156116)\n",
        "feature Distance (0.0470479676818)\n",
        "feature Engine Model (0.0250721091207)\n",
        "feature UniqueCarrier (0.0226909362367)\n",
        "feature Model (0.0190218557311)\n",
        "feature Manufacturer Name (0.0142168198879)\n",
        "\n",
        "Confusion Matrix\n",
        "---------------\n",
        "       0     1\n",
        "0  71220  3277\n",
        "1  12691  4518\n",
        " \n",
        "Precision: 0.58\n",
        "Recall: 0.26\n",
        "F1: 0.36\n",
        "Accuracy: 0.83\n"
       ]
      },
      {
       "metadata": {},
       "output_type": "display_data",
       "png": "[encoded data removed]",
       "text": [
        "<matplotlib.figure.Figure at 0x31aae400>"
       ]
      },
      {
       "metadata": {},
       "output_type": "pyout",
       "prompt_number": 21,
       "text": [
        "(              Feature     Score\n",
        "0                Hour  0.228120\n",
        "1             AirTime  0.119857\n",
        "2          OriginTMIN  0.090038\n",
        "3            DestTMAX  0.085377\n",
        "4            DestTMIN  0.084690\n",
        "5          OriginTMAX  0.082096\n",
        "6          DayofMonth  0.081041\n",
        "7            MFR Year  0.053666\n",
        "8                Dest  0.047066\n",
        "9            Distance  0.047048\n",
        "10       Engine Model  0.025072\n",
        "11      UniqueCarrier  0.022691\n",
        "12              Model  0.019022\n",
        "13  Manufacturer Name  0.014217,\n",
        "               value\n",
        "Precision  0.579602\n",
        "Recall     0.262537\n",
        "F1         0.361382\n",
        "Accuracy   0.825878,\n",
        "          Delay Dist\n",
        "False      0.812346\n",
        "True       0.187654\n",
        "Total  91706.000000)"
       ]
      }
     ],
     "prompt_number": 21
    },
    {
     "cell_type": "markdown",
     "metadata": {},
     "source": [
      "The age of the plane seems to be t he only significant variable (This variable does also make the most inuitive sense"
     ]
    },
    {
     "cell_type": "code",
     "collapsed": false,
     "input": [
      "for c in ['Engine Model', u'Manufacturer Name', u'Model']:\n",
      "    xcols.remove(c)\n",
      "    categoricals.remove(c)\n",
      "\n",
      "test_model(mdl, Origin, xcols, categoricals, condition)"
     ],
     "language": "python",
     "metadata": {},
     "outputs": [
      {
       "output_type": "stream",
       "stream": "stdout",
       "text": [
        "Get Train data\n",
        "--------------\n",
        "111279"
       ]
      },
      {
       "output_type": "stream",
       "stream": "stdout",
       "text": [
        "\n",
        "\n",
        "after imposing the condition: (Origin_airport_to_station < 10) & (Dest_airport_to_station < 10)\n",
        "the dataset was reduced by 0%\n",
        "DayofMonth has 0 nulls"
       ]
      },
      {
       "output_type": "stream",
       "stream": "stdout",
       "text": [
        "\n",
        "UniqueCarrier has 0 nulls"
       ]
      },
      {
       "output_type": "stream",
       "stream": "stdout",
       "text": [
        "\n",
        "Dest has 0 nulls"
       ]
      },
      {
       "output_type": "stream",
       "stream": "stdout",
       "text": [
        "\n",
        "Distance has 0 nulls"
       ]
      },
      {
       "output_type": "stream",
       "stream": "stdout",
       "text": [
        "\n",
        "AirTime has 238 nulls"
       ]
      },
      {
       "output_type": "stream",
       "stream": "stdout",
       "text": [
        "\n",
        "Hour has 0 nulls"
       ]
      },
      {
       "output_type": "stream",
       "stream": "stdout",
       "text": [
        "\n",
        "OriginTMAX has 0 nulls"
       ]
      },
      {
       "output_type": "stream",
       "stream": "stdout",
       "text": [
        "\n",
        "OriginTMIN has 0 nulls"
       ]
      },
      {
       "output_type": "stream",
       "stream": "stdout",
       "text": [
        "\n",
        "DestTMAX has 9101 nulls"
       ]
      },
      {
       "output_type": "stream",
       "stream": "stdout",
       "text": [
        "\n",
        "DestTMIN has 9101 nulls"
       ]
      },
      {
       "output_type": "stream",
       "stream": "stdout",
       "text": [
        "\n",
        "MFR Year has 0 nulls"
       ]
      },
      {
       "output_type": "stream",
       "stream": "stdout",
       "text": [
        "\n",
        "Delay has 0 nulls"
       ]
      },
      {
       "output_type": "stream",
       "stream": "stdout",
       "text": [
        "\n",
        "\n",
        "len before drop nulls: 109317"
       ]
      },
      {
       "output_type": "stream",
       "stream": "stdout",
       "text": [
        "\n",
        "len before drop nulls: 99989\n",
        "After removing nulls dataset reduced by 8%\n",
        "\n",
        "Delay Distribution\n",
        "False    79667\n",
        "True     20322\n",
        "Name: Delay, dtype: int64\n",
        "\n",
        "Get Test data"
       ]
      },
      {
       "output_type": "stream",
       "stream": "stdout",
       "text": [
        "\n",
        "--------------\n",
        "100560\n",
        "\n",
        "after imposing the condition: (Origin_airport_to_station < 10) & (Dest_airport_to_station < 10)\n",
        "the dataset was reduced by 0%\n",
        "DayofMonth has 0 nulls"
       ]
      },
      {
       "output_type": "stream",
       "stream": "stdout",
       "text": [
        "\n",
        "UniqueCarrier has 0 nulls"
       ]
      },
      {
       "output_type": "stream",
       "stream": "stdout",
       "text": [
        "\n",
        "Dest has 0 nulls"
       ]
      },
      {
       "output_type": "stream",
       "stream": "stdout",
       "text": [
        "\n",
        "Distance has 0 nulls"
       ]
      },
      {
       "output_type": "stream",
       "stream": "stdout",
       "text": [
        "\n",
        "AirTime has 209 nulls"
       ]
      },
      {
       "output_type": "stream",
       "stream": "stdout",
       "text": [
        "\n",
        "Hour has 0 nulls"
       ]
      },
      {
       "output_type": "stream",
       "stream": "stdout",
       "text": [
        "\n",
        "OriginTMAX has 0 nulls"
       ]
      },
      {
       "output_type": "stream",
       "stream": "stdout",
       "text": [
        "\n",
        "OriginTMIN has 0 nulls"
       ]
      },
      {
       "output_type": "stream",
       "stream": "stdout",
       "text": [
        "\n",
        "DestTMAX has 6338 nulls"
       ]
      },
      {
       "output_type": "stream",
       "stream": "stdout",
       "text": [
        "\n",
        "DestTMIN has 6338 nulls"
       ]
      },
      {
       "output_type": "stream",
       "stream": "stdout",
       "text": [
        "\n",
        "MFR Year has 0 nulls"
       ]
      },
      {
       "output_type": "stream",
       "stream": "stdout",
       "text": [
        "\n",
        "Delay has 0 nulls"
       ]
      },
      {
       "output_type": "stream",
       "stream": "stdout",
       "text": [
        "\n",
        "\n",
        "len before drop nulls: 98241"
       ]
      },
      {
       "output_type": "stream",
       "stream": "stdout",
       "text": [
        "\n",
        "len before drop nulls: 91706\n",
        "After removing nulls dataset reduced by 6%\n",
        "\n",
        "Delay Distribution\n",
        "False    74497\n",
        "True     17209\n",
        "Name: Delay, dtype: int64\n",
        "\n",
        "Feature Ranking"
       ]
      },
      {
       "output_type": "stream",
       "stream": "stdout",
       "text": [
        "\n",
        "---------------\n",
        "feature Hour (0.224485834344)\n",
        "feature AirTime (0.130654831672)\n",
        "feature OriginTMIN (0.0888740733073)\n",
        "feature DestTMAX (0.0876685627085)\n",
        "feature DestTMIN (0.0865694538369)\n",
        "feature DayofMonth (0.0805619459639)\n",
        "feature OriginTMAX (0.0805240453145)\n",
        "feature MFR Year (0.0768587035756)\n",
        "feature Distance (0.0538725093761)\n",
        "feature Dest (0.0517211457396)\n",
        "feature UniqueCarrier (0.0382088941612)\n",
        "\n",
        "Confusion Matrix\n",
        "---------------\n",
        "       0     1\n",
        "0  70107  4390\n",
        "1  12267  4942\n",
        " \n",
        "Precision: 0.53\n",
        "Recall: 0.29\n",
        "F1: 0.37\n",
        "Accuracy: 0.82\n"
       ]
      },
      {
       "metadata": {},
       "output_type": "display_data",
       "png": "[encoded data removed]",
       "text": [
        "<matplotlib.figure.Figure at 0x36371898>"
       ]
      },
      {
       "metadata": {},
       "output_type": "pyout",
       "prompt_number": 22,
       "text": [
        "(          Feature     Score\n",
        "0            Hour  0.224486\n",
        "1         AirTime  0.130655\n",
        "2      OriginTMIN  0.088874\n",
        "3        DestTMAX  0.087669\n",
        "4        DestTMIN  0.086569\n",
        "5      DayofMonth  0.080562\n",
        "6      OriginTMAX  0.080524\n",
        "7        MFR Year  0.076859\n",
        "8        Distance  0.053873\n",
        "9            Dest  0.051721\n",
        "10  UniqueCarrier  0.038209,\n",
        "               value\n",
        "Precision  0.529576\n",
        "Recall     0.287175\n",
        "F1         0.372405\n",
        "Accuracy   0.818365,\n",
        "          Delay Dist\n",
        "False      0.812346\n",
        "True       0.187654\n",
        "Total  91706.000000)"
       ]
      }
     ],
     "prompt_number": 22
    },
    {
     "cell_type": "markdown",
     "metadata": {},
     "source": [
      "Adding the final variable gives a small increase in precision and accuracy"
     ]
    },
    {
     "cell_type": "markdown",
     "metadata": {},
     "source": [
      "## Other Airports\n",
      "Finally we test the model containing all variables accross a range of airports so that we can observe whether the origin airport affects the feature significance. I'm looking at the top 5 busiest airports in the united states by total passenger boardings: [source](https://en.wikipedia.org/wiki/List_of_the_busiest_airports_in_the_United_States)\n",
      "* Atlanta (ATL)\n",
      "* Los Angeles (LAX)\n",
      "* O'Hare - Chicago (ORD)\n",
      "* Dallas/Fort Worth (DFW)\n",
      "* John F. Kennedy - New York (JFK)\n"
     ]
    },
    {
     "cell_type": "code",
     "collapsed": false,
     "input": [
      "xcols = [u'DayOfWeek', u'DayofMonth', u'Month', u'UniqueCarrier', u'Dest', u'Distance', u'AirTime',\n",
      "         u'Hour',]\n",
      "weather_origin_cols = [\n",
      "    u'OriginPRCP', u'OriginSNOW', u'OriginSNWD',\n",
      "    u'OriginTMAX', u'OriginTMIN'\n",
      "]\n",
      "weather_dest_cols = [\n",
      "    u'DestPRCP', u'DestSNOW', u'DestSNWD',\n",
      "    u'DestTMAX', u'DestTMIN'\n",
      "]\n",
      "weather_cols = weather_origin_cols + weather_dest_cols\n",
      "\n",
      "aircraft_cols = [u'Engine Model', u'MFR Year', u'Manufacturer Name',\n",
      "                     u'Model']\n",
      "\n",
      "xcols.extend(weather_cols)\n",
      "xcols.extend(aircraft_cols)\n",
      "categoricals = ['UniqueCarrier', 'Dest']\n",
      "categoricals.extend(aircraft_cols)\n",
      "\n",
      "condition = \"(Origin_airport_to_station < 10) & (Dest_airport_to_station < 10)\"\n",
      "\n",
      "# Top 5 businest airports in the US by total passenger boardings\n",
      "airports = ['ATL', 'LAX', 'ORD', 'DFW', 'JFK']\n",
      "all_feature_ranks = pd.DataFrame(index=xrange(0, len(xcols)))\n",
      "all_stats = pd.DataFrame(index=['Precision', 'Recall', 'F1','Accuracy'])\n",
      "all_actual_delays = pd.DataFrame(index=[0, 1, 'Total'])\n",
      "for Origin in airports:\n",
      "    print Origin\n",
      "\n",
      "    feature_ranks, stats, actual_delays = test_model(mdl, Origin, xcols, categoricals, condition=condition, suppress_print=True)\n",
      "    feature_ranks.columns = ['Feature_'+Origin, 'Score_'+Origin]\n",
      "    stats.columns = [Origin]\n",
      "    actual_delays.columns = [Origin]\n",
      "    \n",
      "    all_feature_ranks = all_feature_ranks.join(feature_ranks)\n",
      "    all_stats = all_stats.join(stats)\n",
      "    all_actual_delays = all_actual_delays.join(actual_delays)\n",
      "   \n",
      "    \n",
      "    "
     ],
     "language": "python",
     "metadata": {},
     "outputs": [
      {
       "output_type": "stream",
       "stream": "stdout",
       "text": [
        "ATL\n",
        "LAX"
       ]
      },
      {
       "output_type": "stream",
       "stream": "stdout",
       "text": [
        "\n",
        "ORD"
       ]
      },
      {
       "output_type": "stream",
       "stream": "stdout",
       "text": [
        "\n",
        "DFW"
       ]
      },
      {
       "output_type": "stream",
       "stream": "stdout",
       "text": [
        "\n",
        "JFK"
       ]
      },
      {
       "output_type": "stream",
       "stream": "stdout",
       "text": [
        "\n"
       ]
      }
     ],
     "prompt_number": 23
    },
    {
     "cell_type": "code",
     "collapsed": false,
     "input": [
      "pd.set_option('display.width', 120)\n",
      "print all_feature_ranks.head()\n",
      "print all_stats\n",
      "print all_actual_delays"
     ],
     "language": "python",
     "metadata": {},
     "outputs": [
      {
       "output_type": "stream",
       "stream": "stdout",
       "text": [
        "  Feature_ATL  Score_ATL Feature_LAX  Score_LAX Feature_ORD  Score_ORD Feature_DFW  Score_DFW Feature_JFK  Score_JFK\n",
        "0        Hour   0.170754        Hour   0.182371        Hour   0.180905        Hour   0.177118        Hour   0.215091\n",
        "1     AirTime   0.112582     AirTime   0.136556     AirTime   0.127981     AirTime   0.146322     AirTime   0.107491\n",
        "2    MFR Year   0.070016    DestTMAX   0.074257    DestTMAX   0.068097    DestTMAX   0.078059    DestTMIN   0.064969\n",
        "3    DestTMIN   0.069169    DestTMIN   0.072981    DestTMIN   0.067464    DestTMIN   0.076837    DestTMAX   0.064490\n",
        "4    DestTMAX   0.068408  DayofMonth   0.067722        Dest   0.063410        Dest   0.068441  OriginTMIN   0.057279\n",
        "                ATL       LAX       ORD       DFW       JFK\n",
        "Precision  0.539500  0.602805  0.580665  0.603788  0.561901\n",
        "Recall     0.145589  0.130997  0.224322  0.182091  0.251828\n",
        "F1         0.229299  0.215223  0.323622  0.279799  0.347788\n",
        "Accuracy   0.815272  0.816483  0.735727  0.782438  0.824162\n",
        "                 ATL            LAX            ORD            DFW           JFK\n",
        "0           0.811248       0.807899       0.718161       0.767909      0.813833\n",
        "1           0.188752       0.192101       0.281839       0.232091      0.186167\n",
        "Total  267647.000000  170796.000000  208818.000000  211232.000000  83742.000000\n"
       ]
      }
     ],
     "prompt_number": 24
    },
    {
     "cell_type": "code",
     "collapsed": false,
     "input": [
      "print all_feature_ranks"
     ],
     "language": "python",
     "metadata": {},
     "outputs": [
      {
       "output_type": "stream",
       "stream": "stdout",
       "text": [
        "          Feature_ATL  Score_ATL        Feature_LAX  Score_LAX        Feature_ORD  Score_ORD        Feature_DFW  \\\n",
        "0                Hour   0.170754               Hour   0.182371               Hour   0.180905               Hour   \n",
        "1             AirTime   0.112582            AirTime   0.136556            AirTime   0.127981            AirTime   \n",
        "2            MFR Year   0.070016           DestTMAX   0.074257           DestTMAX   0.068097           DestTMAX   \n",
        "3            DestTMIN   0.069169           DestTMIN   0.072981           DestTMIN   0.067464           DestTMIN   \n",
        "4            DestTMAX   0.068408         DayofMonth   0.067722               Dest   0.063410               Dest   \n",
        "5            Distance   0.058221           MFR Year   0.063653           Distance   0.062929           Distance   \n",
        "6                Dest   0.057879         OriginTMAX   0.056038         OriginPRCP   0.047041         OriginTMAX   \n",
        "7          OriginTMIN   0.048500         OriginTMIN   0.051330         OriginTMIN   0.044808         DayofMonth   \n",
        "8          DayofMonth   0.047983          DayOfWeek   0.043291         OriginTMAX   0.043793         OriginTMIN   \n",
        "9          OriginPRCP   0.045676               Dest   0.039261         DayofMonth   0.041644         OriginPRCP   \n",
        "10         OriginTMAX   0.045610           Distance   0.036711      UniqueCarrier   0.041556              Month   \n",
        "11           DestPRCP   0.036003              Month   0.035679           MFR Year   0.035033          DayOfWeek   \n",
        "12              Month   0.031472      UniqueCarrier   0.033864           DestPRCP   0.030923           DestPRCP   \n",
        "13          DayOfWeek   0.031302              Model   0.032823              Month   0.028313           MFR Year   \n",
        "14       Engine Model   0.030693       Engine Model   0.028726          DayOfWeek   0.027864              Model   \n",
        "15              Model   0.028064           DestPRCP   0.024745       Engine Model   0.023580      UniqueCarrier   \n",
        "16      UniqueCarrier   0.020560  Manufacturer Name   0.011827              Model   0.022974       Engine Model   \n",
        "17  Manufacturer Name   0.019253         OriginPRCP   0.005455  Manufacturer Name   0.014882  Manufacturer Name   \n",
        "18           DestSNWD   0.003809           DestSNOW   0.001404         OriginSNOW   0.011883           DestSNWD   \n",
        "19           DestSNOW   0.003638           DestSNWD   0.001304           DestSNWD   0.005457           DestSNOW   \n",
        "20         OriginSNOW   0.000408         OriginSNOW   0.000000         OriginSNWD   0.004841         OriginSNWD   \n",
        "21         OriginSNWD   0.000000         OriginSNWD   0.000000           DestSNOW   0.004620         OriginSNOW   \n",
        "\n",
        "    Score_DFW        Feature_JFK  Score_JFK  \n",
        "0    0.177118               Hour   0.215091  \n",
        "1    0.146322            AirTime   0.107491  \n",
        "2    0.078059           DestTMIN   0.064969  \n",
        "3    0.076837           DestTMAX   0.064490  \n",
        "4    0.068441         OriginTMIN   0.057279  \n",
        "5    0.067011           MFR Year   0.053713  \n",
        "6    0.050734         DayofMonth   0.052758  \n",
        "7    0.050137         OriginTMAX   0.051486  \n",
        "8    0.046304               Dest   0.043389  \n",
        "9    0.033790           Distance   0.043234  \n",
        "10   0.032698         OriginPRCP   0.039940  \n",
        "11   0.032697          DayOfWeek   0.034102  \n",
        "12   0.031907              Month   0.032784  \n",
        "13   0.030495           DestPRCP   0.031541  \n",
        "14   0.019678       Engine Model   0.028847  \n",
        "15   0.017836      UniqueCarrier   0.025431  \n",
        "16   0.017295              Model   0.023131  \n",
        "17   0.013713  Manufacturer Name   0.016598  \n",
        "18   0.003445         OriginSNOW   0.004172  \n",
        "19   0.003056           DestSNWD   0.003721  \n",
        "20   0.002127           DestSNOW   0.003670  \n",
        "21   0.000301         OriginSNWD   0.002164  \n"
       ]
      }
     ],
     "prompt_number": 26
    },
    {
     "cell_type": "markdown",
     "metadata": {},
     "source": [
      "\tto observe model performance and whether factor siginificance would differ by airport\n",
      "\n",
      "* Across the 5 airports the distribution of flight delays is similar (data from 2013):\n",
      "\n",
      "\t\t                 ATL            LAX            ORD            DFW           JFK\n",
      "\t\tOnTime Flights   0.811248       0.807899       0.718161       0.767909      0.813833\n",
      "\t\tDelayed Flights  0.188752       0.192101       0.281839       0.232091      0.186167\n",
      "\t\tTotal  \t\t\t 267,647 \t\t 170,796        208,818        211,232       83,742\n",
      "\n",
      "Using 2013 data to train this model, the following represents the model's performance on the 2014 data:\n",
      "\t\n",
      "* The model performed similarly across the 5 airports with the best predictive power seen at JFK\n",
      "* Across all 5 airports the two most significant factors contributing to flight delays were 'Hour' the Hour in the day and 'AirTime' the total flight time. Both of which had a negative correlation with Delays. i.e. the later in the day you're flight is scheduled to leave and the longer your flight, the more likely a delay\n",
      "* The Origin weather information was surprizingly consistent across all aiports despite the  different weather conditions seen in the different locations.\n",
      "* For all aiports but Atlanta, the third most significant factor was the temperature (daily high) at the destination airport. Interestingly Atlanta sees a boost in significance of the year of Manufacteur of the aircraft\n",
      "* The Origin weather information was surprizingly consistent across all aiports despite the  different weather conditions seen in the different locations.\n",
      "* For all aiports but Atlanta, the third most significant factor was the temperature (daily high) at the destination airport. Interestingly Atlanta sees a boost in significance of the year of Manufacteur of the aircraft\n"
     ]
    },
    {
     "cell_type": "markdown",
     "metadata": {},
     "source": []
    },
    {
     "cell_type": "code",
     "collapsed": false,
     "input": [],
     "language": "python",
     "metadata": {},
     "outputs": [],
     "prompt_number": 24
    }
   ],
   "metadata": {}
  }
 ]
}