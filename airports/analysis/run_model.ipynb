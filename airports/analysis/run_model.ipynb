{
 "metadata": {
  "name": ""
 },
 "nbformat": 3,
 "nbformat_minor": 0,
 "worksheets": [
  {
   "cells": [
    {
     "cell_type": "markdown",
     "metadata": {},
     "source": [
      "# Flight Delays\n",
      "\n",
      "The goal if this project is to take data on obsereved historical flight data and create a model that successfully predicts a flight delay, using the Python libraries Requests, Pandas Sci-Kit Learn (among others). With the intension of not just to create a predictive model, but to understand the factors contributing to that prediction and observe the models performance across different data\n",
      "\n",
      "To see details of how to obtain all of the data needed for this model, see this [README](https://github.com/robertdavidwest/airports)"
     ]
    },
    {
     "cell_type": "markdown",
     "metadata": {},
     "source": [
      "I'm using data from [the Bureal of Transportation Statistics](http://www.transtats.bts.gov/DL_SelectFields.asp?Table_ID=236&DB_Short_Name=On-Time) which offer flight level data from 1987 to present. This is of course quite a lot of data.\n",
      "\n",
      "To begin with I narrowed the range of data by choosing to using data from 2013 t predict flight delays in 2014 (the 2015 dataset is missing data from December 2015). \n",
      "\n",
      "The intension is to successfully predict flight delays using a range of variables that include information specific to the flight, the weather and the aircraft itself, whereby weather and aircraft data are obtained else where. I will use John. F Kenedy airport in New York City to test the model and then make some comparisons to resutls seen in other cities.\n"
     ]
    },
    {
     "cell_type": "markdown",
     "metadata": {},
     "source": [
      "The initial dataset already contains a rich supply of interesting data with the following most interesting fields of interest and distributions in the JFK dataset:"
     ]
    },
    {
     "cell_type": "code",
     "collapsed": false,
     "input": [
      "import warnings\n",
      "warnings.filterwarnings('ignore')\n",
      "\n",
      "import pandas as pd\n",
      "import sys\n",
      "sys.path.append(\"G:/code/rwest/Github/airports/\")\n",
      "\n",
      "from airports.config import output_dir, hdf_path\n",
      "\n",
      "df = pd.read_excel(output_dir + 'flight_info_variable_definitions.xlsx')\n",
      "\n",
      "idx = df['Variable'].isin(['FlightDate', 'UniqueCarrier', 'TailNum', 'Origin', 'Dest', \n",
      "                           'CRSDepTime', 'CRSArrTime', 'DepDelayMinutes', 'Cancelled', 'AirTime', 'Distance'])\n",
      "print df[idx].reset_index(drop=True)\n"
     ],
     "language": "python",
     "metadata": {},
     "outputs": [
      {
       "output_type": "stream",
       "stream": "stdout",
       "text": [
        "           Variable                                        Description\n",
        "0        FlightDate                             Flight Date (yyyymmdd)\n",
        "1     UniqueCarrier  Unique Carrier Code. When the same code has be...\n",
        "2           TailNum                                        Tail Number\n",
        "3            Origin                                     Origin Airport\n",
        "4              Dest                                Destination Airport\n",
        "5        CRSDepTime              CRS Departure Time (local time: hhmm)\n",
        "6   DepDelayMinutes  Difference in minutes between scheduled and ac...\n",
        "7        CRSArrTime                CRS Arrival Time (local time: hhmm)\n",
        "8         Cancelled                 Cancelled Flight Indicator (1=Yes)\n",
        "9           AirTime                            Flight Time, in Minutes\n",
        "10         Distance                  Distance between airports (miles)\n"
       ]
      }
     ],
     "prompt_number": 1
    },
    {
     "cell_type": "markdown",
     "metadata": {},
     "source": [
      "## Dependent Variable\n",
      "\n",
      "We need to decide exactly what our dpendent variable is. How exactly do you define a delay? We are using the variable DepDelayMinutes which show the non-negative times from the scheduled departure to the actual departure. \n",
      "\n",
      "Suppose we define a delay to be any event where DepDelayMinutes is greater than 15. That way we are not picking up the more trivial delays.\n",
      "\n",
      "A few variable transformations\n",
      "----------------------------------\n",
      "* It seems fitting to transform the time of day into a discrete variable such as the hour of the day\n",
      "* I'm also using the separate variables provided Year, Month, and day of month. To see which of these factors examplins the most in the data.\n"
     ]
    },
    {
     "cell_type": "code",
     "collapsed": false,
     "input": [
      "from pandas.util import testing\n",
      "from copy import deepcopy\n",
      "from sklearn.preprocessing import StandardScaler, LabelEncoder\n",
      "from airports.helpers import get_hour\n",
      "\n",
      "def prep_data(xcols, categoricals, data, condition=None, suppress_print=False):\n",
      "    \"\"\"Define dependend variables, remove cancellations, encode categoricals and\n",
      "    make any need variable transforms\n",
      "    \n",
      "    Parameters\n",
      "    ----------\n",
      "    xols : list\n",
      "        list of x variables\n",
      "    categoricals : list\n",
      "        list of str categorical variables contained in xols\n",
      "    data : pd.DataFrame\n",
      "        the dataset\n",
      "    condition : str\n",
      "        any additional condtion to be given to data.query()\n",
      "    \"\"\"\n",
      "    if condition:\n",
      "        len_before = len(data)\n",
      "        data = data.query(condition)\n",
      "        if not suppress_print:\n",
      "            print len(data)\n",
      "            percent = 100*(len_before - len(data))/len_before\n",
      "            print ''\n",
      "            print 'after imposing the condition: {}'.format(condition)\n",
      "            print 'the dataset was reduced by {:.0f}%'.format(percent)\n",
      "        \n",
      "    # remove cancelled flights from dataset\n",
      "    idx = data['Cancelled'] == 0\n",
      "    data = data.loc[idx, :]\n",
      "\n",
      "    # create Y-variables\n",
      "    data['Delay'] = data['DepDelayMinutes'] > 15\n",
      "\n",
      "    # create hour variable\n",
      "    data['Hour'] = data['DepTime'].apply(lambda s: get_hour(s))\n",
      "\n",
      "    # make air time an integer\n",
      "    data['AirTime'] = data['AirTime'].astype(float)\n",
      "    \n",
      "    # Encode categoricals\n",
      "    label_encoders = {}\n",
      "    for col in categoricals:\n",
      "        le = LabelEncoder()\n",
      "        le.fit(data[col])\n",
      "        data[col] = le.transform(data[col])\n",
      "        label_encoders[col] = le\n",
      "\n",
      "    allcols_data = deepcopy(data)\n",
      "    data = data[xcols + ['Delay']]\n",
      "\n",
      "    if not suppress_print:\n",
      "        # show distribution of null values in data\n",
      "        for c in data.columns:\n",
      "            print '{} has {} nulls'.format(c, sum(data[c].isnull()))\n",
      "        print ''\n",
      "\n",
      "    len_before = len(data)\n",
      "    # remove null values\n",
      "    for c in data.columns:\n",
      "        idx = data[c].notnull()\n",
      "        testing.assert_series_equal(idx, allcols_data[c].notnull())\n",
      "        \n",
      "        data = data[idx]\n",
      "        allcols_data = allcols_data[idx]\n",
      "    \n",
      "    if not suppress_print:\n",
      "        percent = 100*(len_before - len(data))/len_before\n",
      "        print 'len before drop nulls: {}'.format(len_before)\n",
      "        print 'len before drop nulls: {}'.format(len(data))\n",
      "    \n",
      "        print 'After removing nulls dataset reduced by {:.0f}%'.format(percent)\n",
      "        print ''\n",
      "        print 'Delay Distribution'\n",
      "        print data['Delay'].value_counts()\n",
      "        print ''\n",
      "    \n",
      "    data_y = data['Delay']\n",
      "    data_x = data[xcols]\n",
      "\n",
      "    return allcols_data, data_x, data_y, label_encoders\n",
      "    "
     ],
     "language": "python",
     "metadata": {},
     "outputs": [],
     "prompt_number": 2
    },
    {
     "cell_type": "markdown",
     "metadata": {},
     "source": [
      "\n",
      "\n"
     ]
    },
    {
     "cell_type": "markdown",
     "metadata": {},
     "source": [
      "* Insticintively right away it seems obvious that the variables Distance and AirTime would have a strong correlation. we would also expect the scheduled landing time to be correlated with the AirTime since we are only looking at single airport. Lets look in the data\n"
     ]
    },
    {
     "cell_type": "code",
     "collapsed": false,
     "input": [
      "import pandas as pd\n",
      "\n",
      "Origin = 'JFK'\n",
      "where = ['Year == 2013', \"Origin == '{}'\".format(Origin)]\n",
      "xcols = [u'DayOfWeek', u'DayofMonth', u'Month', u'UniqueCarrier', u'Dest', u'Distance', u'AirTime',\n",
      "         u'Hour',]\n",
      "categoricals = ['UniqueCarrier', 'Dest']\n",
      "\n",
      "with pd.HDFStore(hdf_path, 'r') as store:\n",
      "    train_data = store.select('flat_file', where=where)\n",
      "    train_data, train_x, train_y, label_encoders = prep_data(xcols, categoricals, train_data)\n",
      "    print train_x.head() # Notice that the Carrier and Destination variables have been encoded\n",
      "    print train_data[xcols + ['Delay']].corr()\n",
      "    \n",
      "    "
     ],
     "language": "python",
     "metadata": {},
     "outputs": [
      {
       "output_type": "stream",
       "stream": "stdout",
       "text": [
        "DayOfWeek has 0 nulls\n",
        "DayofMonth has 0 nulls"
       ]
      },
      {
       "output_type": "stream",
       "stream": "stdout",
       "text": [
        "\n",
        "Month has 0 nulls"
       ]
      },
      {
       "output_type": "stream",
       "stream": "stdout",
       "text": [
        "\n",
        "UniqueCarrier has 0 nulls"
       ]
      },
      {
       "output_type": "stream",
       "stream": "stdout",
       "text": [
        "\n",
        "Dest has 0 nulls"
       ]
      },
      {
       "output_type": "stream",
       "stream": "stdout",
       "text": [
        "\n",
        "Distance has 0 nulls"
       ]
      },
      {
       "output_type": "stream",
       "stream": "stdout",
       "text": [
        "\n",
        "AirTime has 238 nulls"
       ]
      },
      {
       "output_type": "stream",
       "stream": "stdout",
       "text": [
        "\n",
        "Hour has 0 nulls"
       ]
      },
      {
       "output_type": "stream",
       "stream": "stdout",
       "text": [
        "\n",
        "Delay has 0 nulls"
       ]
      },
      {
       "output_type": "stream",
       "stream": "stdout",
       "text": [
        "\n",
        "\n",
        "len before drop nulls: 109317"
       ]
      },
      {
       "output_type": "stream",
       "stream": "stdout",
       "text": [
        "\n",
        "len before drop nulls: 109079\n",
        "After removing nulls dataset reduced by 0%\n",
        "\n",
        "Delay Distribution\n",
        "False    86565\n",
        "True     22514\n",
        "Name: Delay, dtype: int64\n",
        "\n",
        "     DayOfWeek  DayofMonth  Month  UniqueCarrier  Dest  Distance  AirTime  \\\n",
        "12           5          18      1              3    55      1074      167   \n",
        "35           5          18      1              3    30      2248      312   \n",
        "158          5          18      1              3    59      2422      354   \n",
        "252          5          18      1              3    30      2248      301   \n",
        "296          5          18      1              3    60      2586      346   \n",
        "\n",
        "     Hour  \n",
        "12     16  \n",
        "35     12  \n",
        "158    18  \n",
        "252    19  \n",
        "296    10  \n",
        "               DayOfWeek  DayofMonth     Month  UniqueCarrier      Dest  \\\n",
        "DayOfWeek       1.000000    0.009564  0.000842      -0.009105  0.000166   \n",
        "DayofMonth      0.009564    1.000000  0.013129       0.001717  0.002341   \n",
        "Month           0.000842    0.013129  1.000000       0.027933 -0.005159   \n",
        "UniqueCarrier  -0.009105    0.001717  0.027933       1.000000  0.061101   \n",
        "Dest            0.000166    0.002341 -0.005159       0.061101  1.000000   \n",
        "Distance       -0.007647    0.002958  0.019713       0.263066  0.390457   \n",
        "AirTime        -0.010082    0.002832  0.012278       0.267026  0.383786   \n",
        "Hour            0.005472    0.002699 -0.008144      -0.102019 -0.051677   \n",
        "Delay          -0.006147    0.001173 -0.015414      -0.054488 -0.009348   \n",
        "\n",
        "               Distance   AirTime      Hour     Delay  \n",
        "DayOfWeek     -0.007647 -0.010082  0.005472 -0.006147  \n",
        "DayofMonth     0.002958  0.002832  0.002699  0.001173  \n",
        "Month          0.019713  0.012278 -0.008144 -0.015414  \n",
        "UniqueCarrier  0.263066  0.267026 -0.102019 -0.054488  \n",
        "Dest           0.390457  0.383786 -0.051677 -0.009348  \n",
        "Distance       1.000000  0.992401 -0.046651 -0.054476  \n",
        "AirTime        0.992401  1.000000 -0.044854 -0.055878  \n",
        "Hour          -0.046651 -0.044854  1.000000  0.306697  \n",
        "Delay         -0.054476 -0.055878  0.306697  1.000000  "
       ]
      },
      {
       "output_type": "stream",
       "stream": "stdout",
       "text": [
        "\n"
       ]
      }
     ],
     "prompt_number": 3
    },
    {
     "cell_type": "markdown",
     "metadata": {},
     "source": [
      "As expected AirTime is highly correlated with Distance. So we will remove AirTime from the model. While Distance is quite highly correlated with Destination at .39"
     ]
    },
    {
     "cell_type": "code",
     "collapsed": false,
     "input": [
      "%matplotlib inline\n",
      "# time category distributions of delays (with the variable Hour looking to be by far the most interesting\n",
      "delay_dist = lambda var: train_data[['Delay', var]].groupby(var).mean()\n",
      "delay_dist('Month').plot(kind='bar')\n",
      "delay_dist('DayOfWeek').plot(kind='bar')\n",
      "delay_dist('DayofMonth').plot(kind='bar')\n",
      "delay_dist('Hour').plot(kind='bar')"
     ],
     "language": "python",
     "metadata": {},
     "outputs": [
      {
       "metadata": {},
       "output_type": "pyout",
       "prompt_number": 4,
       "text": [
        "<matplotlib.axes.AxesSubplot at 0x185afbe0>"
       ]
      },
      {
       "metadata": {},
       "output_type": "display_data",
       "png": "[encoded data removed]",
       "text": [
        "<matplotlib.figure.Figure at 0x1b4cff98>"
       ]
      },
      {
       "metadata": {},
       "output_type": "display_data",
       "png": "[encoded data removed]",
       "text": [
        "<matplotlib.figure.Figure at 0x1b42c5f8>"
       ]
      },
      {
       "metadata": {},
       "output_type": "display_data",
       "png": "[encoded data removed]",
       "text": [
        "<matplotlib.figure.Figure at 0x1b49feb8>"
       ]
      },
      {
       "metadata": {},
       "output_type": "display_data",
       "png": "[encoded data removed]",
       "text": [
        "<matplotlib.figure.Figure at 0x1b3911d0>"
       ]
      }
     ],
     "prompt_number": 4
    },
    {
     "cell_type": "markdown",
     "metadata": {},
     "source": [
      "Its clear that for the variable Hour, there is already a strong positive with the day begining at 6am and ending at 4am. We shift the hours - through 3 to the end of the day to further improve the explnatry power of the variable\n",
      "\n",
      "correlation and we shift the day to begin at 6, we should see even more explanatory power. To do this, we just add 'Hour' to the list of `categoricals`  "
     ]
    },
    {
     "cell_type": "markdown",
     "metadata": {},
     "source": [
      "The following function will be used to run any desired model and then display\n",
      "\n",
      "* the confusion matrix\n",
      "* precision\n",
      "* recall\n",
      "* F1 score\n",
      "* accuracy\n",
      "* and feature ranking"
     ]
    },
    {
     "cell_type": "code",
     "collapsed": false,
     "input": [
      "import matplotlib.pyplot as plt\n",
      "import numpy as np\n",
      "from sklearn.metrics import confusion_matrix, precision_recall_fscore_support, accuracy_score\n",
      "from airports.helpers import show_stats\n",
      "from airports.config import hdf_path\n",
      "\n",
      "def test_model(mdl, Origin, xcols, categoricals, condition=None, suppress_print=False):\n",
      "    \"\"\"train the given model using the training data and predict\n",
      "    results on the test data and then display the confusion matrix,\n",
      "    precision, recall, F1 score and accuracy\n",
      "    \"\"\"\n",
      "\n",
      "    store = pd.HDFStore(hdf_path, 'r')\n",
      "    train_where = ['Year == 2013', \"Origin == '{}'\".format(Origin)]\n",
      "    train_data = store.select('flat_file', where=train_where)\n",
      "    if not suppress_print:\n",
      "        print 'Get Train data'\n",
      "        print '--------------'\n",
      "    train_data, train_x, train_y, train_label_encoders = prep_data(xcols, categoricals, train_data, condition, suppress_print)\n",
      "\n",
      "    test_where = ['Year == 2014', \"Origin == '{}'\".format(Origin)]\n",
      "    test_data = store.select('flat_file', where=test_where)\n",
      "    if not suppress_print:\n",
      "        print 'Get Test data'\n",
      "        print '--------------'\n",
      "    test_data, test_x, test_y, test_label_encoders = prep_data(xcols, categoricals, test_data, condition, suppress_print)\n",
      "\n",
      "    mdl.fit(train_x, train_y)\n",
      "    pr = mdl.predict(test_x)\n",
      "    cm = confusion_matrix(test_y, pr)\n",
      "    report = precision_recall_fscore_support(test_y, pr, average='binary')\n",
      "\n",
      "    # Feature Ranking\n",
      "    importances = mdl.feature_importances_\n",
      "    indices = np.argsort(importances)[::-1]\n",
      "    \n",
      "    if not suppress_print:\n",
      "        print 'Feature Ranking'\n",
      "        print '---------------'\n",
      "    cols = []\n",
      "    scores = []\n",
      "    for i in xrange(0, len(test_x.columns)):\n",
      "        col = test_x.columns[indices[i]]\n",
      "        score = importances[indices[i]]\n",
      "        if not suppress_print:\n",
      "            print 'feature {} ({})'.format(col, score)\n",
      "        cols.append(col)\n",
      "        scores.append(score)\n",
      "    \n",
      "    if not suppress_print:\n",
      "        print ''\n",
      "        print 'Confusion Matrix'\n",
      "        print '---------------'\n",
      "        print pd.DataFrame(cm)\n",
      "        print ' '\n",
      "        \n",
      "    feature_ranks = pd.DataFrame({'Feature': cols, 'Score': scores})\n",
      "    \n",
      "    stats = show_stats(report, accuracy_score(test_y, pr), suppress_print=suppress_print)\n",
      "\n",
      "    std = np.std([tree.feature_importances_ for tree in mdl.estimators_], axis=0)\n",
      "\n",
      "    if not suppress_print:\n",
      "        # Plot the feature importances of the forest\n",
      "        plt.figure()\n",
      "        plt.xticks(rotation=45)\n",
      "        plt.title(\"Feature importance\")\n",
      "        plt.bar(range(test_x.shape[1]), importances[indices],\n",
      "            color=\"r\", yerr=std[indices], align=\"center\")\n",
      "        plt.xticks(range(test_x.shape[1]), train_x.columns[indices])\n",
      "        plt.xlim([-1, test_x.shape[1]])\n",
      "        plt.show()\n",
      "\n",
      "    store.close()\n",
      "    \n",
      "    actual_delays = pd.DataFrame({'Delay Dist': test_y.value_counts(normalize=True)})\n",
      "    actual_delays.loc['Total', 'Delay Dist'] = len(test_y)\n",
      "    \n",
      "    return feature_ranks, stats, actual_delays"
     ],
     "language": "python",
     "metadata": {},
     "outputs": [],
     "prompt_number": 5
    },
    {
     "cell_type": "markdown",
     "metadata": {},
     "source": [
      "I'm going to use the ensemble method [RandomForestClassifier](http://scikit-learn.org/stable/modules/generated/sklearn.ensemble.RandomForestClassifier.html) as the model with `n_estimators=50`. This will be useful to prevent overfitting and is also nescarry for us to provide Feature importance results. To allow us to infer what the most significant factors were\n"
     ]
    },
    {
     "cell_type": "code",
     "collapsed": false,
     "input": [
      "from sklearn.ensemble import RandomForestClassifier\n",
      "\n",
      "mdl = RandomForestClassifier(n_estimators=50, n_jobs=-1)\n",
      "test_model(mdl, Origin, xcols, categoricals)"
     ],
     "language": "python",
     "metadata": {},
     "outputs": [
      {
       "output_type": "stream",
       "stream": "stdout",
       "text": [
        "Get Train data\n",
        "--------------\n",
        "DayOfWeek has 0 nulls"
       ]
      },
      {
       "output_type": "stream",
       "stream": "stdout",
       "text": [
        "\n",
        "DayofMonth has 0 nulls"
       ]
      },
      {
       "output_type": "stream",
       "stream": "stdout",
       "text": [
        "\n",
        "Month has 0 nulls"
       ]
      },
      {
       "output_type": "stream",
       "stream": "stdout",
       "text": [
        "\n",
        "UniqueCarrier has 0 nulls"
       ]
      },
      {
       "output_type": "stream",
       "stream": "stdout",
       "text": [
        "\n",
        "Dest has 0 nulls"
       ]
      },
      {
       "output_type": "stream",
       "stream": "stdout",
       "text": [
        "\n",
        "Distance has 0 nulls"
       ]
      },
      {
       "output_type": "stream",
       "stream": "stdout",
       "text": [
        "\n",
        "AirTime has 238 nulls"
       ]
      },
      {
       "output_type": "stream",
       "stream": "stdout",
       "text": [
        "\n",
        "Hour has 0 nulls"
       ]
      },
      {
       "output_type": "stream",
       "stream": "stdout",
       "text": [
        "\n",
        "Delay has 0 nulls"
       ]
      },
      {
       "output_type": "stream",
       "stream": "stdout",
       "text": [
        "\n",
        "\n",
        "len before drop nulls: 109317"
       ]
      },
      {
       "output_type": "stream",
       "stream": "stdout",
       "text": [
        "\n",
        "len before drop nulls: 109079\n",
        "After removing nulls dataset reduced by 0%\n",
        "\n",
        "Delay Distribution\n",
        "False    86565\n",
        "True     22514\n",
        "Name: Delay, dtype: int64\n",
        "\n",
        "Get Test data"
       ]
      },
      {
       "output_type": "stream",
       "stream": "stdout",
       "text": [
        "\n",
        "--------------\n",
        "DayOfWeek has 0 nulls"
       ]
      },
      {
       "output_type": "stream",
       "stream": "stdout",
       "text": [
        "\n",
        "DayofMonth has 0 nulls"
       ]
      },
      {
       "output_type": "stream",
       "stream": "stdout",
       "text": [
        "\n",
        "Month has 0 nulls"
       ]
      },
      {
       "output_type": "stream",
       "stream": "stdout",
       "text": [
        "\n",
        "UniqueCarrier has 0 nulls"
       ]
      },
      {
       "output_type": "stream",
       "stream": "stdout",
       "text": [
        "\n",
        "Dest has 0 nulls"
       ]
      },
      {
       "output_type": "stream",
       "stream": "stdout",
       "text": [
        "\n",
        "Distance has 0 nulls"
       ]
      },
      {
       "output_type": "stream",
       "stream": "stdout",
       "text": [
        "\n",
        "AirTime has 209 nulls"
       ]
      },
      {
       "output_type": "stream",
       "stream": "stdout",
       "text": [
        "\n",
        "Hour has 0 nulls"
       ]
      },
      {
       "output_type": "stream",
       "stream": "stdout",
       "text": [
        "\n",
        "Delay has 0 nulls"
       ]
      },
      {
       "output_type": "stream",
       "stream": "stdout",
       "text": [
        "\n",
        "\n",
        "len before drop nulls: 98241"
       ]
      },
      {
       "output_type": "stream",
       "stream": "stdout",
       "text": [
        "\n",
        "len before drop nulls: 98032\n",
        "After removing nulls dataset reduced by 0%\n",
        "\n",
        "Delay Distribution\n",
        "False    79560\n",
        "True     18472\n",
        "Name: Delay, dtype: int64\n",
        "\n",
        "Feature Ranking"
       ]
      },
      {
       "output_type": "stream",
       "stream": "stdout",
       "text": [
        "\n",
        "---------------\n",
        "feature Hour (0.263893687889)\n",
        "feature AirTime (0.203205651483)\n",
        "feature DayofMonth (0.146299702852)\n",
        "feature Month (0.0976801438717)\n",
        "feature DayOfWeek (0.0803495512329)\n",
        "feature Distance (0.0775634833902)\n",
        "feature Dest (0.0738426894085)\n",
        "feature UniqueCarrier (0.0571650898729)\n",
        "\n",
        "Confusion Matrix\n",
        "---------------\n",
        "       0     1\n",
        "0  70770  8790\n",
        "1  11966  6506\n",
        " \n",
        "Precision: 0.43\n",
        "Recall: 0.35\n",
        "F1: 0.39\n",
        "Accuracy: 0.79\n"
       ]
      },
      {
       "metadata": {},
       "output_type": "display_data",
       "png": "[encoded data removed]",
       "text": [
        "<matplotlib.figure.Figure at 0x1620e9b0>"
       ]
      },
      {
       "metadata": {},
       "output_type": "pyout",
       "prompt_number": 6,
       "text": [
        "(         Feature     Score\n",
        "0           Hour  0.263894\n",
        "1        AirTime  0.203206\n",
        "2     DayofMonth  0.146300\n",
        "3          Month  0.097680\n",
        "4      DayOfWeek  0.080350\n",
        "5       Distance  0.077563\n",
        "6           Dest  0.073843\n",
        "7  UniqueCarrier  0.057165,\n",
        "               value\n",
        "Precision  0.425340\n",
        "Recall     0.352209\n",
        "F1         0.385335\n",
        "Accuracy   0.788273,\n",
        "          Delay Dist\n",
        "False      0.811572\n",
        "True       0.188428\n",
        "Total  98032.000000)"
       ]
      }
     ],
     "prompt_number": 6
    },
    {
     "cell_type": "markdown",
     "metadata": {},
     "source": [
      "## Adding Weather Data \n",
      "\n",
      "At this point the model is already showing some strong predictive power. Whilst obtaining a strong accuracy score of .79 we also hhave a reaonsable F1 Score of .39\n",
      "\n",
      "Now lets introduce some more data to the model. I am introducing daily weather information at both the Origin and Destination airport. Using daily weather information obtained [here](http://www.ncdc.noaa.gov/cdo-web/datasets/), historical daily weather metrics, specifically:\n",
      "\n",
      "      PRCP = Precipitation (tenths of mm, inches to hundredths on Daily Form pdf file)\n",
      "      SNOW = Snowfall (mm, inches to tenths on Daily Form pdf file)\n",
      "      SNWD = Snow depth (mm, inches on Daily Form pdf file)\n",
      "      TMAX = Maximum temperature ***\n",
      "      TMIN = Minimum temperature ***\n",
      "\n",
      "[source](http://www1.ncdc.noaa.gov/pub/data/cdo/documentation/GHCND_documentation.pdf)\n",
      "\n",
      "In order to merge the daily weather data into our original dataset. We first need to use the given airport latitude and longitude data, to find the closest weather station availble to each airport using the handy `geopy` module. For details on this process see [here](https://github.com/robertdavidwest/airports/blob/master/airports/data/merge_data.py). After completing this stepour dataset contains the closest weather station identifier and we can then merge on the weather variables at both the Origin and Destination airports.\n",
      "\n",
      "After completing this step our dataset contains 2 new vairables `Origin_airport_to_station` and `Dest_airport_to_station`, as well as the new independent variables"
     ]
    },
    {
     "cell_type": "code",
     "collapsed": false,
     "input": [
      "print 'Furthest Origin Weather Stations'\n",
      "print '--------------------------------'\n",
      "\n",
      "print 'Origin_airport_to_station furthest distances'\n",
      "print train_data['Origin_airport_to_station'].value_counts(dropna=False).sort_index(ascending=False).head(5)\n",
      "print ''\n",
      "print 'Dest_airport_to_station furthest distances'\n",
      "print train_data['Dest_airport_to_station'].value_counts(dropna=False).sort_index(ascending=False).head(5)\n",
      "\n",
      "# The distributions seems to show that each weather station is a reaonable distance away from the each airport\n",
      "# to give us a clean dataset if the data is refreshed, we will only keep rows that contain airports with a weather station within 10 miles\n",
      "condition = \"(Origin_airport_to_station < 10) & (Dest_airport_to_station < 10)\""
     ],
     "language": "python",
     "metadata": {},
     "outputs": [
      {
       "output_type": "stream",
       "stream": "stdout",
       "text": [
        "Furthest Origin Weather Stations\n",
        "--------------------------------\n",
        "Origin_airport_to_station furthest distances\n",
        "0.88273    109079\n",
        "Name: Origin_airport_to_station, dtype: int64\n",
        "\n",
        "Dest_airport_to_station furthest distances\n",
        "3.127604       2\n",
        "1.838792    2231\n",
        "1.624245    1114\n",
        "1.620909    3285\n",
        "1.216406     271\n",
        "Name: Dest_airport_to_station, dtype: int64\n"
       ]
      }
     ],
     "prompt_number": 7
    },
    {
     "cell_type": "code",
     "collapsed": false,
     "input": [
      "weather_origin_cols = [\n",
      "    u'OriginPRCP', u'OriginSNOW', u'OriginSNWD',\n",
      "    u'OriginTMAX', u'OriginTMIN'\n",
      "]\n",
      "weather_dest_cols = [\n",
      "    u'DestPRCP', u'DestSNOW', u'DestSNWD',\n",
      "    u'DestTMAX', u'DestTMIN'\n",
      "]\n",
      "weather_cols = weather_origin_cols + weather_dest_cols\n",
      "xcols.extend(weather_cols) \n",
      "test_model(mdl, Origin, xcols, categoricals, condition)"
     ],
     "language": "python",
     "metadata": {},
     "outputs": [
      {
       "output_type": "stream",
       "stream": "stdout",
       "text": [
        "Get Train data\n",
        "--------------\n",
        "111279\n",
        "\n",
        "after imposing the condition: (Origin_airport_to_station < 10) & (Dest_airport_to_station < 10)\n",
        "the dataset was reduced by 0%\n",
        "DayOfWeek has 0 nulls"
       ]
      },
      {
       "output_type": "stream",
       "stream": "stdout",
       "text": [
        "\n",
        "DayofMonth has 0 nulls"
       ]
      },
      {
       "output_type": "stream",
       "stream": "stdout",
       "text": [
        "\n",
        "Month has 0 nulls"
       ]
      },
      {
       "output_type": "stream",
       "stream": "stdout",
       "text": [
        "\n",
        "UniqueCarrier has 0 nulls"
       ]
      },
      {
       "output_type": "stream",
       "stream": "stdout",
       "text": [
        "\n",
        "Dest has 0 nulls"
       ]
      },
      {
       "output_type": "stream",
       "stream": "stdout",
       "text": [
        "\n",
        "Distance has 0 nulls"
       ]
      },
      {
       "output_type": "stream",
       "stream": "stdout",
       "text": [
        "\n",
        "AirTime has 238 nulls"
       ]
      },
      {
       "output_type": "stream",
       "stream": "stdout",
       "text": [
        "\n",
        "Hour has 0 nulls"
       ]
      },
      {
       "output_type": "stream",
       "stream": "stdout",
       "text": [
        "\n",
        "OriginPRCP has 0 nulls"
       ]
      },
      {
       "output_type": "stream",
       "stream": "stdout",
       "text": [
        "\n",
        "OriginSNOW has 0 nulls"
       ]
      },
      {
       "output_type": "stream",
       "stream": "stdout",
       "text": [
        "\n",
        "OriginSNWD has 0 nulls"
       ]
      },
      {
       "output_type": "stream",
       "stream": "stdout",
       "text": [
        "\n",
        "OriginTMAX has 0 nulls"
       ]
      },
      {
       "output_type": "stream",
       "stream": "stdout",
       "text": [
        "\n",
        "OriginTMIN has 0 nulls"
       ]
      },
      {
       "output_type": "stream",
       "stream": "stdout",
       "text": [
        "\n",
        "DestPRCP has 9102 nulls"
       ]
      },
      {
       "output_type": "stream",
       "stream": "stdout",
       "text": [
        "\n",
        "DestSNOW has 22271 nulls"
       ]
      },
      {
       "output_type": "stream",
       "stream": "stdout",
       "text": [
        "\n",
        "DestSNWD has 27378 nulls"
       ]
      },
      {
       "output_type": "stream",
       "stream": "stdout",
       "text": [
        "\n",
        "DestTMAX has 9101 nulls"
       ]
      },
      {
       "output_type": "stream",
       "stream": "stdout",
       "text": [
        "\n",
        "DestTMIN has 9101 nulls"
       ]
      },
      {
       "output_type": "stream",
       "stream": "stdout",
       "text": [
        "\n",
        "Delay has 0 nulls"
       ]
      },
      {
       "output_type": "stream",
       "stream": "stdout",
       "text": [
        "\n",
        "\n",
        "len before drop nulls: 109317"
       ]
      },
      {
       "output_type": "stream",
       "stream": "stdout",
       "text": [
        "\n",
        "len before drop nulls: 80990\n",
        "After removing nulls dataset reduced by 25%\n",
        "\n",
        "Delay Distribution\n",
        "False    64177\n",
        "True     16813\n",
        "Name: Delay, dtype: int64\n",
        "\n",
        "Get Test data"
       ]
      },
      {
       "output_type": "stream",
       "stream": "stdout",
       "text": [
        "\n",
        "--------------\n",
        "100560\n",
        "\n",
        "after imposing the condition: (Origin_airport_to_station < 10) & (Dest_airport_to_station < 10)\n",
        "the dataset was reduced by 0%\n",
        "DayOfWeek has 0 nulls"
       ]
      },
      {
       "output_type": "stream",
       "stream": "stdout",
       "text": [
        "\n",
        "DayofMonth has 0 nulls"
       ]
      },
      {
       "output_type": "stream",
       "stream": "stdout",
       "text": [
        "\n",
        "Month has 0 nulls"
       ]
      },
      {
       "output_type": "stream",
       "stream": "stdout",
       "text": [
        "\n",
        "UniqueCarrier has 0 nulls"
       ]
      },
      {
       "output_type": "stream",
       "stream": "stdout",
       "text": [
        "\n",
        "Dest has 0 nulls"
       ]
      },
      {
       "output_type": "stream",
       "stream": "stdout",
       "text": [
        "\n",
        "Distance has 0 nulls"
       ]
      },
      {
       "output_type": "stream",
       "stream": "stdout",
       "text": [
        "\n",
        "AirTime has 209 nulls"
       ]
      },
      {
       "output_type": "stream",
       "stream": "stdout",
       "text": [
        "\n",
        "Hour has 0 nulls"
       ]
      },
      {
       "output_type": "stream",
       "stream": "stdout",
       "text": [
        "\n",
        "OriginPRCP has 0 nulls"
       ]
      },
      {
       "output_type": "stream",
       "stream": "stdout",
       "text": [
        "\n",
        "OriginSNOW has 0 nulls"
       ]
      },
      {
       "output_type": "stream",
       "stream": "stdout",
       "text": [
        "\n",
        "OriginSNWD has 0 nulls"
       ]
      },
      {
       "output_type": "stream",
       "stream": "stdout",
       "text": [
        "\n",
        "OriginTMAX has 0 nulls"
       ]
      },
      {
       "output_type": "stream",
       "stream": "stdout",
       "text": [
        "\n",
        "OriginTMIN has 0 nulls"
       ]
      },
      {
       "output_type": "stream",
       "stream": "stdout",
       "text": [
        "\n",
        "DestPRCP has 6291 nulls"
       ]
      },
      {
       "output_type": "stream",
       "stream": "stdout",
       "text": [
        "\n",
        "DestSNOW has 9958 nulls"
       ]
      },
      {
       "output_type": "stream",
       "stream": "stdout",
       "text": [
        "\n",
        "DestSNWD has 13597 nulls"
       ]
      },
      {
       "output_type": "stream",
       "stream": "stdout",
       "text": [
        "\n",
        "DestTMAX has 6338 nulls"
       ]
      },
      {
       "output_type": "stream",
       "stream": "stdout",
       "text": [
        "\n",
        "DestTMIN has 6338 nulls"
       ]
      },
      {
       "output_type": "stream",
       "stream": "stdout",
       "text": [
        "\n",
        "Delay has 0 nulls"
       ]
      },
      {
       "output_type": "stream",
       "stream": "stdout",
       "text": [
        "\n",
        "\n",
        "len before drop nulls: 98241"
       ]
      },
      {
       "output_type": "stream",
       "stream": "stdout",
       "text": [
        "\n",
        "len before drop nulls: 83742\n",
        "After removing nulls dataset reduced by 14%\n",
        "\n",
        "Delay Distribution\n",
        "False    68152\n",
        "True     15590\n",
        "Name: Delay, dtype: int64\n",
        "\n",
        "Feature Ranking"
       ]
      },
      {
       "output_type": "stream",
       "stream": "stdout",
       "text": [
        "\n",
        "---------------\n",
        "feature Hour (0.242264372536)\n",
        "feature AirTime (0.151139599006)\n",
        "feature DestTMIN (0.0690727413226)\n",
        "feature DestTMAX (0.0682989396125)\n",
        "feature UniqueCarrier (0.0654882706788)\n",
        "feature OriginTMIN (0.0541993217853)\n",
        "feature Distance (0.051824140604)\n",
        "feature Dest (0.0514046267441)\n",
        "feature DayofMonth (0.0488264273277)\n",
        "feature OriginTMAX (0.0488091917172)\n",
        "feature OriginPRCP (0.0397217506253)\n",
        "feature DestPRCP (0.0328340035201)\n",
        "feature DayOfWeek (0.0321279978948)\n",
        "feature Month (0.0310387244616)\n",
        "feature DestSNWD (0.00383464574169)\n",
        "feature OriginSNOW (0.00364897886758)\n",
        "feature DestSNOW (0.00360218491953)\n",
        "feature OriginSNWD (0.00186408263518)\n",
        "\n",
        "Confusion Matrix\n",
        "---------------\n",
        "       0     1\n",
        "0  64533  3619\n",
        "1  11543  4047\n",
        " \n",
        "Precision: 0.53\n",
        "Recall: 0.26\n",
        "F1: 0.35\n",
        "Accuracy: 0.82\n"
       ]
      },
      {
       "metadata": {},
       "output_type": "display_data",
       "png": "[encoded data removed]",
       "text": [
        "<matplotlib.figure.Figure at 0x17073ac8>"
       ]
      },
      {
       "metadata": {},
       "output_type": "pyout",
       "prompt_number": 8,
       "text": [
        "(          Feature     Score\n",
        "0            Hour  0.242264\n",
        "1         AirTime  0.151140\n",
        "2        DestTMIN  0.069073\n",
        "3        DestTMAX  0.068299\n",
        "4   UniqueCarrier  0.065488\n",
        "5      OriginTMIN  0.054199\n",
        "6        Distance  0.051824\n",
        "7            Dest  0.051405\n",
        "8      DayofMonth  0.048826\n",
        "9      OriginTMAX  0.048809\n",
        "10     OriginPRCP  0.039722\n",
        "11       DestPRCP  0.032834\n",
        "12      DayOfWeek  0.032128\n",
        "13          Month  0.031039\n",
        "14       DestSNWD  0.003835\n",
        "15     OriginSNOW  0.003649\n",
        "16       DestSNOW  0.003602\n",
        "17     OriginSNWD  0.001864,\n",
        "               value\n",
        "Precision  0.527915\n",
        "Recall     0.259589\n",
        "F1         0.348039\n",
        "Accuracy   0.818944,\n",
        "          Delay Dist\n",
        "False      0.813833\n",
        "True       0.186167\n",
        "Total  83742.000000)"
       ]
      }
     ],
     "prompt_number": 8
    },
    {
     "cell_type": "markdown",
     "metadata": {},
     "source": [
      "For a slighty reduced F1 score we have improved accuracy to .82\n",
      "\n",
      "However, using the weather data in the model reduced the dataset size by 14% due to missing values. It appears that the SNOW variables habe no real explaining power and do in fact have the most missing values, so its an easy decsision to remove these from the variable list"
     ]
    },
    {
     "cell_type": "code",
     "collapsed": false,
     "input": [
      "snow_cols = ['OriginSNOW', u'OriginSNWD', 'DestSNOW', u'DestSNWD']\n",
      "for c in snow_cols:\n",
      "    xcols.remove(c)\n",
      "test_model(mdl, Origin, xcols, categoricals, condition)"
     ],
     "language": "python",
     "metadata": {},
     "outputs": [
      {
       "output_type": "stream",
       "stream": "stdout",
       "text": [
        "Get Train data\n",
        "--------------\n",
        "111279\n",
        "\n",
        "after imposing the condition: (Origin_airport_to_station < 10) & (Dest_airport_to_station < 10)\n",
        "the dataset was reduced by 0%\n",
        "DayOfWeek has 0 nulls"
       ]
      },
      {
       "output_type": "stream",
       "stream": "stdout",
       "text": [
        "\n",
        "DayofMonth has 0 nulls"
       ]
      },
      {
       "output_type": "stream",
       "stream": "stdout",
       "text": [
        "\n",
        "Month has 0 nulls"
       ]
      },
      {
       "output_type": "stream",
       "stream": "stdout",
       "text": [
        "\n",
        "UniqueCarrier has 0 nulls"
       ]
      },
      {
       "output_type": "stream",
       "stream": "stdout",
       "text": [
        "\n",
        "Dest has 0 nulls"
       ]
      },
      {
       "output_type": "stream",
       "stream": "stdout",
       "text": [
        "\n",
        "Distance has 0 nulls"
       ]
      },
      {
       "output_type": "stream",
       "stream": "stdout",
       "text": [
        "\n",
        "AirTime has 238 nulls"
       ]
      },
      {
       "output_type": "stream",
       "stream": "stdout",
       "text": [
        "\n",
        "Hour has 0 nulls"
       ]
      },
      {
       "output_type": "stream",
       "stream": "stdout",
       "text": [
        "\n",
        "OriginPRCP has 0 nulls"
       ]
      },
      {
       "output_type": "stream",
       "stream": "stdout",
       "text": [
        "\n",
        "OriginTMAX has 0 nulls"
       ]
      },
      {
       "output_type": "stream",
       "stream": "stdout",
       "text": [
        "\n",
        "OriginTMIN has 0 nulls"
       ]
      },
      {
       "output_type": "stream",
       "stream": "stdout",
       "text": [
        "\n",
        "DestPRCP has 9102 nulls"
       ]
      },
      {
       "output_type": "stream",
       "stream": "stdout",
       "text": [
        "\n",
        "DestTMAX has 9101 nulls"
       ]
      },
      {
       "output_type": "stream",
       "stream": "stdout",
       "text": [
        "\n",
        "DestTMIN has 9101 nulls"
       ]
      },
      {
       "output_type": "stream",
       "stream": "stdout",
       "text": [
        "\n",
        "Delay has 0 nulls"
       ]
      },
      {
       "output_type": "stream",
       "stream": "stdout",
       "text": [
        "\n",
        "\n",
        "len before drop nulls: 109317"
       ]
      },
      {
       "output_type": "stream",
       "stream": "stdout",
       "text": [
        "\n",
        "len before drop nulls: 99822\n",
        "After removing nulls dataset reduced by 8%\n",
        "\n",
        "Delay Distribution\n",
        "False    79543\n",
        "True     20279\n",
        "Name: Delay, dtype: int64\n",
        "\n",
        "Get Test data"
       ]
      },
      {
       "output_type": "stream",
       "stream": "stdout",
       "text": [
        "\n",
        "--------------\n",
        "100560\n",
        "\n",
        "after imposing the condition: (Origin_airport_to_station < 10) & (Dest_airport_to_station < 10)\n",
        "the dataset was reduced by 0%\n",
        "DayOfWeek has 0 nulls"
       ]
      },
      {
       "output_type": "stream",
       "stream": "stdout",
       "text": [
        "\n",
        "DayofMonth has 0 nulls"
       ]
      },
      {
       "output_type": "stream",
       "stream": "stdout",
       "text": [
        "\n",
        "Month has 0 nulls"
       ]
      },
      {
       "output_type": "stream",
       "stream": "stdout",
       "text": [
        "\n",
        "UniqueCarrier has 0 nulls"
       ]
      },
      {
       "output_type": "stream",
       "stream": "stdout",
       "text": [
        "\n",
        "Dest has 0 nulls"
       ]
      },
      {
       "output_type": "stream",
       "stream": "stdout",
       "text": [
        "\n",
        "Distance has 0 nulls"
       ]
      },
      {
       "output_type": "stream",
       "stream": "stdout",
       "text": [
        "\n",
        "AirTime has 209 nulls"
       ]
      },
      {
       "output_type": "stream",
       "stream": "stdout",
       "text": [
        "\n",
        "Hour has 0 nulls"
       ]
      },
      {
       "output_type": "stream",
       "stream": "stdout",
       "text": [
        "\n",
        "OriginPRCP has 0 nulls"
       ]
      },
      {
       "output_type": "stream",
       "stream": "stdout",
       "text": [
        "\n",
        "OriginTMAX has 0 nulls"
       ]
      },
      {
       "output_type": "stream",
       "stream": "stdout",
       "text": [
        "\n",
        "OriginTMIN has 0 nulls"
       ]
      },
      {
       "output_type": "stream",
       "stream": "stdout",
       "text": [
        "\n",
        "DestPRCP has 6291 nulls"
       ]
      },
      {
       "output_type": "stream",
       "stream": "stdout",
       "text": [
        "\n",
        "DestTMAX has 6338 nulls"
       ]
      },
      {
       "output_type": "stream",
       "stream": "stdout",
       "text": [
        "\n",
        "DestTMIN has 6338 nulls"
       ]
      },
      {
       "output_type": "stream",
       "stream": "stdout",
       "text": [
        "\n",
        "Delay has 0 nulls"
       ]
      },
      {
       "output_type": "stream",
       "stream": "stdout",
       "text": [
        "\n",
        "\n",
        "len before drop nulls: 98241"
       ]
      },
      {
       "output_type": "stream",
       "stream": "stdout",
       "text": [
        "\n",
        "len before drop nulls: 91569\n",
        "After removing nulls dataset reduced by 6%\n",
        "\n",
        "Delay Distribution\n",
        "False    74399\n",
        "True     17170\n",
        "Name: Delay, dtype: int64\n",
        "\n",
        "Feature Ranking"
       ]
      },
      {
       "output_type": "stream",
       "stream": "stdout",
       "text": [
        "\n",
        "---------------\n",
        "feature Hour (0.232480109862)\n",
        "feature AirTime (0.151095285535)\n",
        "feature DestTMIN (0.0714455897165)\n",
        "feature DestTMAX (0.0704857180888)\n",
        "feature UniqueCarrier (0.0655025263094)\n",
        "feature OriginTMIN (0.0567118949221)\n",
        "feature Distance (0.0544078031872)\n",
        "feature Dest (0.052997825713)\n",
        "feature DayofMonth (0.0514904289703)\n",
        "feature OriginTMAX (0.0513801528779)\n",
        "feature OriginPRCP (0.0410305623341)\n",
        "feature Month (0.0337901259891)\n",
        "feature DestPRCP (0.0336761249416)\n",
        "feature DayOfWeek (0.0335058515521)\n",
        "\n",
        "Confusion Matrix\n",
        "---------------\n",
        "       0     1\n",
        "0  70929  3470\n",
        "1  12784  4386\n",
        " \n",
        "Precision: 0.56\n",
        "Recall: 0.26\n",
        "F1: 0.35\n",
        "Accuracy: 0.82\n"
       ]
      },
      {
       "metadata": {},
       "output_type": "display_data",
       "png": "[encoded data removed]",
       "text": [
        "<matplotlib.figure.Figure at 0x25645240>"
       ]
      },
      {
       "metadata": {},
       "output_type": "pyout",
       "prompt_number": 9,
       "text": [
        "(          Feature     Score\n",
        "0            Hour  0.232480\n",
        "1         AirTime  0.151095\n",
        "2        DestTMIN  0.071446\n",
        "3        DestTMAX  0.070486\n",
        "4   UniqueCarrier  0.065503\n",
        "5      OriginTMIN  0.056712\n",
        "6        Distance  0.054408\n",
        "7            Dest  0.052998\n",
        "8      DayofMonth  0.051490\n",
        "9      OriginTMAX  0.051380\n",
        "10     OriginPRCP  0.041031\n",
        "11          Month  0.033790\n",
        "12       DestPRCP  0.033676\n",
        "13      DayOfWeek  0.033506,\n",
        "               value\n",
        "Precision  0.558299\n",
        "Recall     0.255446\n",
        "F1         0.350515\n",
        "Accuracy   0.822495,\n",
        "          Delay Dist\n",
        "False      0.812491\n",
        "True       0.187509\n",
        "Total  91569.000000)"
       ]
      }
     ],
     "prompt_number": 9
    },
    {
     "cell_type": "markdown",
     "metadata": {},
     "source": [
      "a slight increase in precision, with everything else in tact. The variables 'OriginPRCP', 'DestPRCP', 'DayOfWeek', 'Month' don't appear to add much value either and while 'Dest' holds a little more, recall that is was quite highly correleted with 'AirTime'"
     ]
    },
    {
     "cell_type": "code",
     "collapsed": false,
     "input": [
      "for c in ['OriginPRCP', 'DestPRCP', 'DayOfWeek', 'Month']:\n",
      "    xcols.remove(c)\n",
      "test_model(mdl, Origin, xcols, categoricals, condition)"
     ],
     "language": "python",
     "metadata": {},
     "outputs": [
      {
       "output_type": "stream",
       "stream": "stdout",
       "text": [
        "Get Train data\n",
        "--------------\n",
        "111279\n",
        "\n",
        "after imposing the condition: (Origin_airport_to_station < 10) & (Dest_airport_to_station < 10)\n",
        "the dataset was reduced by 0%\n",
        "DayofMonth has 0 nulls"
       ]
      },
      {
       "output_type": "stream",
       "stream": "stdout",
       "text": [
        "\n",
        "UniqueCarrier has 0 nulls"
       ]
      },
      {
       "output_type": "stream",
       "stream": "stdout",
       "text": [
        "\n",
        "Dest has 0 nulls"
       ]
      },
      {
       "output_type": "stream",
       "stream": "stdout",
       "text": [
        "\n",
        "Distance has 0 nulls"
       ]
      },
      {
       "output_type": "stream",
       "stream": "stdout",
       "text": [
        "\n",
        "AirTime has 238 nulls"
       ]
      },
      {
       "output_type": "stream",
       "stream": "stdout",
       "text": [
        "\n",
        "Hour has 0 nulls"
       ]
      },
      {
       "output_type": "stream",
       "stream": "stdout",
       "text": [
        "\n",
        "OriginTMAX has 0 nulls"
       ]
      },
      {
       "output_type": "stream",
       "stream": "stdout",
       "text": [
        "\n",
        "OriginTMIN has 0 nulls"
       ]
      },
      {
       "output_type": "stream",
       "stream": "stdout",
       "text": [
        "\n",
        "DestTMAX has 9101 nulls"
       ]
      },
      {
       "output_type": "stream",
       "stream": "stdout",
       "text": [
        "\n",
        "DestTMIN has 9101 nulls"
       ]
      },
      {
       "output_type": "stream",
       "stream": "stdout",
       "text": [
        "\n",
        "Delay has 0 nulls"
       ]
      },
      {
       "output_type": "stream",
       "stream": "stdout",
       "text": [
        "\n",
        "\n",
        "len before drop nulls: 109317"
       ]
      },
      {
       "output_type": "stream",
       "stream": "stdout",
       "text": [
        "\n",
        "len before drop nulls: 99989\n",
        "After removing nulls dataset reduced by 8%\n",
        "\n",
        "Delay Distribution\n",
        "False    79667\n",
        "True     20322\n",
        "Name: Delay, dtype: int64\n",
        "\n",
        "Get Test data"
       ]
      },
      {
       "output_type": "stream",
       "stream": "stdout",
       "text": [
        "\n",
        "--------------\n",
        "100560\n",
        "\n",
        "after imposing the condition: (Origin_airport_to_station < 10) & (Dest_airport_to_station < 10)\n",
        "the dataset was reduced by 0%\n",
        "DayofMonth has 0 nulls"
       ]
      },
      {
       "output_type": "stream",
       "stream": "stdout",
       "text": [
        "\n",
        "UniqueCarrier has 0 nulls"
       ]
      },
      {
       "output_type": "stream",
       "stream": "stdout",
       "text": [
        "\n",
        "Dest has 0 nulls"
       ]
      },
      {
       "output_type": "stream",
       "stream": "stdout",
       "text": [
        "\n",
        "Distance has 0 nulls"
       ]
      },
      {
       "output_type": "stream",
       "stream": "stdout",
       "text": [
        "\n",
        "AirTime has 209 nulls"
       ]
      },
      {
       "output_type": "stream",
       "stream": "stdout",
       "text": [
        "\n",
        "Hour has 0 nulls"
       ]
      },
      {
       "output_type": "stream",
       "stream": "stdout",
       "text": [
        "\n",
        "OriginTMAX has 0 nulls"
       ]
      },
      {
       "output_type": "stream",
       "stream": "stdout",
       "text": [
        "\n",
        "OriginTMIN has 0 nulls"
       ]
      },
      {
       "output_type": "stream",
       "stream": "stdout",
       "text": [
        "\n",
        "DestTMAX has 6338 nulls"
       ]
      },
      {
       "output_type": "stream",
       "stream": "stdout",
       "text": [
        "\n",
        "DestTMIN has 6338 nulls"
       ]
      },
      {
       "output_type": "stream",
       "stream": "stdout",
       "text": [
        "\n",
        "Delay has 0 nulls"
       ]
      },
      {
       "output_type": "stream",
       "stream": "stdout",
       "text": [
        "\n",
        "\n",
        "len before drop nulls: 98241"
       ]
      },
      {
       "output_type": "stream",
       "stream": "stdout",
       "text": [
        "\n",
        "len before drop nulls: 91706\n",
        "After removing nulls dataset reduced by 6%\n",
        "\n",
        "Delay Distribution\n",
        "False    74497\n",
        "True     17209\n",
        "Name: Delay, dtype: int64\n",
        "\n",
        "Feature Ranking"
       ]
      },
      {
       "output_type": "stream",
       "stream": "stdout",
       "text": [
        "\n",
        "---------------\n",
        "feature Hour (0.235422851105)\n",
        "feature AirTime (0.153974493738)\n",
        "feature DestTMAX (0.0913322507508)\n",
        "feature OriginTMIN (0.0911008512076)\n",
        "feature DestTMIN (0.0904841821008)\n",
        "feature DayofMonth (0.0835751277716)\n",
        "feature OriginTMAX (0.0825988547731)\n",
        "feature UniqueCarrier (0.0601568354901)\n",
        "feature Distance (0.0568358714126)\n",
        "feature Dest (0.0545186816504)\n",
        "\n",
        "Confusion Matrix\n",
        "---------------\n",
        "       0     1\n",
        "0  68749  5748\n",
        "1  11727  5482\n",
        " \n",
        "Precision: 0.49\n",
        "Recall: 0.32\n",
        "F1: 0.39\n",
        "Accuracy: 0.81\n"
       ]
      },
      {
       "metadata": {},
       "output_type": "display_data",
       "png": "[encoded data removed]",
       "text": [
        "<matplotlib.figure.Figure at 0x38b16908>"
       ]
      },
      {
       "metadata": {},
       "output_type": "pyout",
       "prompt_number": 10,
       "text": [
        "(         Feature     Score\n",
        "0           Hour  0.235423\n",
        "1        AirTime  0.153974\n",
        "2       DestTMAX  0.091332\n",
        "3     OriginTMIN  0.091101\n",
        "4       DestTMIN  0.090484\n",
        "5     DayofMonth  0.083575\n",
        "6     OriginTMAX  0.082599\n",
        "7  UniqueCarrier  0.060157\n",
        "8       Distance  0.056836\n",
        "9           Dest  0.054519,\n",
        "               value\n",
        "Precision  0.488157\n",
        "Recall     0.318554\n",
        "F1         0.385527\n",
        "Accuracy   0.809445,\n",
        "          Delay Dist\n",
        "False      0.812346\n",
        "True       0.187654\n",
        "Total  91706.000000)"
       ]
      }
     ],
     "prompt_number": 10
    },
    {
     "cell_type": "markdown",
     "metadata": {},
     "source": [
      "We've now managed to match our original F1 score of .39 but with an improved precision and accuracy!"
     ]
    },
    {
     "cell_type": "markdown",
     "metadata": {},
     "source": [
      "## Adding Aircraft level data\n",
      "\n",
      "Finally we add some Aircraft level variables to the dataset, obtained using the given TailNum available in the flight data, coupled with information scraped from this site (http://registry.faa.gov/aircraftinquiry/NNum_Results.aspx?NNumbertxt=N325US).\n",
      "\n",
      "From here I was able to obtain aircraft specific information including the Engine Model, Model, Manufacturer and age of the plane. These variables may be correlated with some of the flight level variables, lets see how they affct the model\n",
      "\n",
      "[Scraper](https://github.com/robertdavidwest/airports/blob/master/airports/data/get_plane_level_info.py)\n"
     ]
    },
    {
     "cell_type": "code",
     "collapsed": false,
     "input": [
      "aircraft_cols = [u'Engine Model', u'MFR Year', u'Manufacturer Name',\n",
      "                     u'Model']\n",
      "\n",
      "xcols.extend(aircraft_cols)\n",
      "categoricals.extend(aircraft_cols)\n",
      "test_model(mdl, Origin, xcols, categoricals, condition)"
     ],
     "language": "python",
     "metadata": {},
     "outputs": [
      {
       "output_type": "stream",
       "stream": "stdout",
       "text": [
        "Get Train data\n",
        "--------------\n",
        "111279\n",
        "\n",
        "after imposing the condition: (Origin_airport_to_station < 10) & (Dest_airport_to_station < 10)\n",
        "the dataset was reduced by 0%\n",
        "DayofMonth has 0 nulls"
       ]
      },
      {
       "output_type": "stream",
       "stream": "stdout",
       "text": [
        "\n",
        "UniqueCarrier has 0 nulls"
       ]
      },
      {
       "output_type": "stream",
       "stream": "stdout",
       "text": [
        "\n",
        "Dest has 0 nulls"
       ]
      },
      {
       "output_type": "stream",
       "stream": "stdout",
       "text": [
        "\n",
        "Distance has 0 nulls"
       ]
      },
      {
       "output_type": "stream",
       "stream": "stdout",
       "text": [
        "\n",
        "AirTime has 238 nulls"
       ]
      },
      {
       "output_type": "stream",
       "stream": "stdout",
       "text": [
        "\n",
        "Hour has 0 nulls"
       ]
      },
      {
       "output_type": "stream",
       "stream": "stdout",
       "text": [
        "\n",
        "OriginTMAX has 0 nulls"
       ]
      },
      {
       "output_type": "stream",
       "stream": "stdout",
       "text": [
        "\n",
        "OriginTMIN has 0 nulls"
       ]
      },
      {
       "output_type": "stream",
       "stream": "stdout",
       "text": [
        "\n",
        "DestTMAX has 9101 nulls"
       ]
      },
      {
       "output_type": "stream",
       "stream": "stdout",
       "text": [
        "\n",
        "DestTMIN has 9101 nulls"
       ]
      },
      {
       "output_type": "stream",
       "stream": "stdout",
       "text": [
        "\n",
        "Engine Model has 0 nulls"
       ]
      },
      {
       "output_type": "stream",
       "stream": "stdout",
       "text": [
        "\n",
        "MFR Year has 0 nulls"
       ]
      },
      {
       "output_type": "stream",
       "stream": "stdout",
       "text": [
        "\n",
        "Manufacturer Name has 0 nulls"
       ]
      },
      {
       "output_type": "stream",
       "stream": "stdout",
       "text": [
        "\n",
        "Model has 0 nulls"
       ]
      },
      {
       "output_type": "stream",
       "stream": "stdout",
       "text": [
        "\n",
        "Delay has 0 nulls"
       ]
      },
      {
       "output_type": "stream",
       "stream": "stdout",
       "text": [
        "\n",
        "\n",
        "len before drop nulls: 109317"
       ]
      },
      {
       "output_type": "stream",
       "stream": "stdout",
       "text": [
        "\n",
        "len before drop nulls: 99989\n",
        "After removing nulls dataset reduced by 8%\n",
        "\n",
        "Delay Distribution\n",
        "False    79667\n",
        "True     20322\n",
        "Name: Delay, dtype: int64\n",
        "\n",
        "Get Test data"
       ]
      },
      {
       "output_type": "stream",
       "stream": "stdout",
       "text": [
        "\n",
        "--------------\n",
        "100560\n",
        "\n",
        "after imposing the condition: (Origin_airport_to_station < 10) & (Dest_airport_to_station < 10)\n",
        "the dataset was reduced by 0%\n",
        "DayofMonth has 0 nulls"
       ]
      },
      {
       "output_type": "stream",
       "stream": "stdout",
       "text": [
        "\n",
        "UniqueCarrier has 0 nulls"
       ]
      },
      {
       "output_type": "stream",
       "stream": "stdout",
       "text": [
        "\n",
        "Dest has 0 nulls"
       ]
      },
      {
       "output_type": "stream",
       "stream": "stdout",
       "text": [
        "\n",
        "Distance has 0 nulls"
       ]
      },
      {
       "output_type": "stream",
       "stream": "stdout",
       "text": [
        "\n",
        "AirTime has 209 nulls"
       ]
      },
      {
       "output_type": "stream",
       "stream": "stdout",
       "text": [
        "\n",
        "Hour has 0 nulls"
       ]
      },
      {
       "output_type": "stream",
       "stream": "stdout",
       "text": [
        "\n",
        "OriginTMAX has 0 nulls"
       ]
      },
      {
       "output_type": "stream",
       "stream": "stdout",
       "text": [
        "\n",
        "OriginTMIN has 0 nulls"
       ]
      },
      {
       "output_type": "stream",
       "stream": "stdout",
       "text": [
        "\n",
        "DestTMAX has 6338 nulls"
       ]
      },
      {
       "output_type": "stream",
       "stream": "stdout",
       "text": [
        "\n",
        "DestTMIN has 6338 nulls"
       ]
      },
      {
       "output_type": "stream",
       "stream": "stdout",
       "text": [
        "\n",
        "Engine Model has 0 nulls"
       ]
      },
      {
       "output_type": "stream",
       "stream": "stdout",
       "text": [
        "\n",
        "MFR Year has 0 nulls"
       ]
      },
      {
       "output_type": "stream",
       "stream": "stdout",
       "text": [
        "\n",
        "Manufacturer Name has 0 nulls"
       ]
      },
      {
       "output_type": "stream",
       "stream": "stdout",
       "text": [
        "\n",
        "Model has 0 nulls"
       ]
      },
      {
       "output_type": "stream",
       "stream": "stdout",
       "text": [
        "\n",
        "Delay has 0 nulls"
       ]
      },
      {
       "output_type": "stream",
       "stream": "stdout",
       "text": [
        "\n",
        "\n",
        "len before drop nulls: 98241"
       ]
      },
      {
       "output_type": "stream",
       "stream": "stdout",
       "text": [
        "\n",
        "len before drop nulls: 91706\n",
        "After removing nulls dataset reduced by 6%\n",
        "\n",
        "Delay Distribution\n",
        "False    74497\n",
        "True     17209\n",
        "Name: Delay, dtype: int64\n",
        "\n",
        "Feature Ranking"
       ]
      },
      {
       "output_type": "stream",
       "stream": "stdout",
       "text": [
        "\n",
        "---------------\n",
        "feature Hour (0.227630563507)\n",
        "feature AirTime (0.121500139546)\n",
        "feature OriginTMIN (0.0891686638683)\n",
        "feature DestTMAX (0.0864582036071)\n",
        "feature DestTMIN (0.0849192619699)\n",
        "feature OriginTMAX (0.081395274718)\n",
        "feature DayofMonth (0.0809982967223)\n",
        "feature MFR Year (0.0528767979793)\n",
        "feature Dest (0.0474439236947)\n",
        "feature Distance (0.046513939317)\n",
        "feature Engine Model (0.0248143464523)\n",
        "feature UniqueCarrier (0.0226098259009)\n",
        "feature Model (0.0192524454964)\n",
        "feature Manufacturer Name (0.0144183172206)\n",
        "\n",
        "Confusion Matrix\n",
        "---------------\n",
        "       0     1\n",
        "0  71126  3371\n",
        "1  12595  4614\n",
        " \n",
        "Precision: 0.58\n",
        "Recall: 0.27\n",
        "F1: 0.37\n",
        "Accuracy: 0.83\n"
       ]
      },
      {
       "metadata": {},
       "output_type": "display_data",
       "png": "[encoded data removed]",
       "text": [
        "<matplotlib.figure.Figure at 0x1afe5668>"
       ]
      },
      {
       "metadata": {},
       "output_type": "pyout",
       "prompt_number": 11,
       "text": [
        "(              Feature     Score\n",
        "0                Hour  0.227631\n",
        "1             AirTime  0.121500\n",
        "2          OriginTMIN  0.089169\n",
        "3            DestTMAX  0.086458\n",
        "4            DestTMIN  0.084919\n",
        "5          OriginTMAX  0.081395\n",
        "6          DayofMonth  0.080998\n",
        "7            MFR Year  0.052877\n",
        "8                Dest  0.047444\n",
        "9            Distance  0.046514\n",
        "10       Engine Model  0.024814\n",
        "11      UniqueCarrier  0.022610\n",
        "12              Model  0.019252\n",
        "13  Manufacturer Name  0.014418,\n",
        "               value\n",
        "Precision  0.577833\n",
        "Recall     0.268116\n",
        "F1         0.366278\n",
        "Accuracy   0.825900,\n",
        "          Delay Dist\n",
        "False      0.812346\n",
        "True       0.187654\n",
        "Total  91706.000000)"
       ]
      }
     ],
     "prompt_number": 11
    },
    {
     "cell_type": "markdown",
     "metadata": {},
     "source": [
      "The age of the plane seems to be t he only significant variable (This variable does also make the most inuitive sense"
     ]
    },
    {
     "cell_type": "code",
     "collapsed": false,
     "input": [
      "for c in ['Engine Model', u'Manufacturer Name', u'Model']:\n",
      "    xcols.remove(c)\n",
      "    categoricals.remove(c)\n",
      "\n",
      "test_model(mdl, Origin, xcols, categoricals, condition)"
     ],
     "language": "python",
     "metadata": {},
     "outputs": [
      {
       "output_type": "stream",
       "stream": "stdout",
       "text": [
        "Get Train data\n",
        "--------------\n",
        "111279\n",
        "\n",
        "after imposing the condition: (Origin_airport_to_station < 10) & (Dest_airport_to_station < 10)\n",
        "the dataset was reduced by 0%\n",
        "DayofMonth has 0 nulls"
       ]
      },
      {
       "output_type": "stream",
       "stream": "stdout",
       "text": [
        "\n",
        "UniqueCarrier has 0 nulls"
       ]
      },
      {
       "output_type": "stream",
       "stream": "stdout",
       "text": [
        "\n",
        "Dest has 0 nulls"
       ]
      },
      {
       "output_type": "stream",
       "stream": "stdout",
       "text": [
        "\n",
        "Distance has 0 nulls"
       ]
      },
      {
       "output_type": "stream",
       "stream": "stdout",
       "text": [
        "\n",
        "AirTime has 238 nulls"
       ]
      },
      {
       "output_type": "stream",
       "stream": "stdout",
       "text": [
        "\n",
        "Hour has 0 nulls"
       ]
      },
      {
       "output_type": "stream",
       "stream": "stdout",
       "text": [
        "\n",
        "OriginTMAX has 0 nulls"
       ]
      },
      {
       "output_type": "stream",
       "stream": "stdout",
       "text": [
        "\n",
        "OriginTMIN has 0 nulls"
       ]
      },
      {
       "output_type": "stream",
       "stream": "stdout",
       "text": [
        "\n",
        "DestTMAX has 9101 nulls"
       ]
      },
      {
       "output_type": "stream",
       "stream": "stdout",
       "text": [
        "\n",
        "DestTMIN has 9101 nulls"
       ]
      },
      {
       "output_type": "stream",
       "stream": "stdout",
       "text": [
        "\n",
        "MFR Year has 0 nulls"
       ]
      },
      {
       "output_type": "stream",
       "stream": "stdout",
       "text": [
        "\n",
        "Delay has 0 nulls"
       ]
      },
      {
       "output_type": "stream",
       "stream": "stdout",
       "text": [
        "\n",
        "\n",
        "len before drop nulls: 109317"
       ]
      },
      {
       "output_type": "stream",
       "stream": "stdout",
       "text": [
        "\n",
        "len before drop nulls: 99989\n",
        "After removing nulls dataset reduced by 8%\n",
        "\n",
        "Delay Distribution\n",
        "False    79667\n",
        "True     20322\n",
        "Name: Delay, dtype: int64\n",
        "\n",
        "Get Test data"
       ]
      },
      {
       "output_type": "stream",
       "stream": "stdout",
       "text": [
        "\n",
        "--------------\n",
        "100560\n",
        "\n",
        "after imposing the condition: (Origin_airport_to_station < 10) & (Dest_airport_to_station < 10)\n",
        "the dataset was reduced by 0%\n",
        "DayofMonth has 0 nulls"
       ]
      },
      {
       "output_type": "stream",
       "stream": "stdout",
       "text": [
        "\n",
        "UniqueCarrier has 0 nulls"
       ]
      },
      {
       "output_type": "stream",
       "stream": "stdout",
       "text": [
        "\n",
        "Dest has 0 nulls"
       ]
      },
      {
       "output_type": "stream",
       "stream": "stdout",
       "text": [
        "\n",
        "Distance has 0 nulls"
       ]
      },
      {
       "output_type": "stream",
       "stream": "stdout",
       "text": [
        "\n",
        "AirTime has 209 nulls"
       ]
      },
      {
       "output_type": "stream",
       "stream": "stdout",
       "text": [
        "\n",
        "Hour has 0 nulls"
       ]
      },
      {
       "output_type": "stream",
       "stream": "stdout",
       "text": [
        "\n",
        "OriginTMAX has 0 nulls"
       ]
      },
      {
       "output_type": "stream",
       "stream": "stdout",
       "text": [
        "\n",
        "OriginTMIN has 0 nulls"
       ]
      },
      {
       "output_type": "stream",
       "stream": "stdout",
       "text": [
        "\n",
        "DestTMAX has 6338 nulls"
       ]
      },
      {
       "output_type": "stream",
       "stream": "stdout",
       "text": [
        "\n",
        "DestTMIN has 6338 nulls"
       ]
      },
      {
       "output_type": "stream",
       "stream": "stdout",
       "text": [
        "\n",
        "MFR Year has 0 nulls"
       ]
      },
      {
       "output_type": "stream",
       "stream": "stdout",
       "text": [
        "\n",
        "Delay has 0 nulls"
       ]
      },
      {
       "output_type": "stream",
       "stream": "stdout",
       "text": [
        "\n",
        "\n",
        "len before drop nulls: 98241"
       ]
      },
      {
       "output_type": "stream",
       "stream": "stdout",
       "text": [
        "\n",
        "len before drop nulls: 91706\n",
        "After removing nulls dataset reduced by 6%\n",
        "\n",
        "Delay Distribution\n",
        "False    74497\n",
        "True     17209\n",
        "Name: Delay, dtype: int64\n",
        "\n",
        "Feature Ranking"
       ]
      },
      {
       "output_type": "stream",
       "stream": "stdout",
       "text": [
        "\n",
        "---------------\n",
        "feature Hour (0.225323122705)\n",
        "feature AirTime (0.131403877975)\n",
        "feature OriginTMIN (0.0892832537008)\n",
        "feature DestTMAX (0.0874516236653)\n",
        "feature DestTMIN (0.0868911750951)\n",
        "feature DayofMonth (0.0808610385784)\n",
        "feature OriginTMAX (0.0802447779982)\n",
        "feature MFR Year (0.0762493618875)\n",
        "feature Distance (0.0527377847811)\n",
        "feature Dest (0.0510455271167)\n",
        "feature UniqueCarrier (0.0385084564973)\n",
        "\n",
        "Confusion Matrix\n",
        "---------------\n",
        "       0     1\n",
        "0  70245  4252\n",
        "1  12335  4874\n",
        " \n",
        "Precision: 0.53\n",
        "Recall: 0.28\n",
        "F1: 0.37\n",
        "Accuracy: 0.82\n"
       ]
      },
      {
       "metadata": {},
       "output_type": "display_data",
       "png": "[encoded data removed]",
       "text": [
        "<matplotlib.figure.Figure at 0x204b6630>"
       ]
      },
      {
       "metadata": {},
       "output_type": "pyout",
       "prompt_number": 12,
       "text": [
        "(          Feature     Score\n",
        "0            Hour  0.225323\n",
        "1         AirTime  0.131404\n",
        "2      OriginTMIN  0.089283\n",
        "3        DestTMAX  0.087452\n",
        "4        DestTMIN  0.086891\n",
        "5      DayofMonth  0.080861\n",
        "6      OriginTMAX  0.080245\n",
        "7        MFR Year  0.076249\n",
        "8        Distance  0.052738\n",
        "9            Dest  0.051046\n",
        "10  UniqueCarrier  0.038508,\n",
        "               value\n",
        "Precision  0.534078\n",
        "Recall     0.283224\n",
        "F1         0.370154\n",
        "Accuracy   0.819129,\n",
        "          Delay Dist\n",
        "False      0.812346\n",
        "True       0.187654\n",
        "Total  91706.000000)"
       ]
      }
     ],
     "prompt_number": 12
    },
    {
     "cell_type": "markdown",
     "metadata": {},
     "source": [
      "Adding the final variable gives a small increase in precision and accuracy"
     ]
    },
    {
     "cell_type": "markdown",
     "metadata": {},
     "source": [
      "## Other Airports\n",
      "Finally we test the model containing all variables accross a range of airports so that we ca observe whether thr origin airport affects the feature selection. I'm looking at the top 10 busiest airports in the united states by total passenger boardings: [source](https://en.wikipedia.org/wiki/List_of_the_busiest_airports_in_the_United_States)\n"
     ]
    },
    {
     "cell_type": "code",
     "collapsed": false,
     "input": [
      "xcols = [u'DayOfWeek', u'DayofMonth', u'Month', u'UniqueCarrier', u'Dest', u'Distance', u'AirTime',\n",
      "         u'Hour',]\n",
      "weather_origin_cols = [\n",
      "    u'OriginPRCP', u'OriginSNOW', u'OriginSNWD',\n",
      "    u'OriginTMAX', u'OriginTMIN'\n",
      "]\n",
      "weather_dest_cols = [\n",
      "    u'DestPRCP', u'DestSNOW', u'DestSNWD',\n",
      "    u'DestTMAX', u'DestTMIN'\n",
      "]\n",
      "weather_cols = weather_origin_cols + weather_dest_cols\n",
      "\n",
      "aircraft_cols = [u'Engine Model', u'MFR Year', u'Manufacturer Name',\n",
      "                     u'Model']\n",
      "\n",
      "xcols.extend(weather_cols)\n",
      "xcols.extend(aircraft_cols)\n",
      "categoricals = ['UniqueCarrier', 'Dest']\n",
      "categoricals.extend(aircraft_cols)\n",
      "\n",
      "condition = \"(Origin_airport_to_station < 10) & (Dest_airport_to_station < 10)\"\n",
      "\n",
      "# Top 5 businest airports in the US by total passenger boardings\n",
      "airports = ['ATL', 'LAX', 'ORD', 'DFW', 'JFK', 'DEN', 'SFO', 'CLT', 'LAS', 'PHX']\n",
      "all_feature_ranks = pd.DataFrame(index=xrange(0, len(xcols)))\n",
      "all_stats = pd.DataFrame(index=['Precision', 'Recall', 'F1','Accuracy'])\n",
      "all_actual_delays = pd.DataFrame(index=[0, 1, 'Total'])\n",
      "for Origin in airports:\n",
      "    print Origin\n",
      "    try: \n",
      "        feature_ranks, stats, actual_delays = test_model(mdl, Origin, xcols, categoricals, condition=condition, suppress_print=True)\n",
      "        feature_ranks.columns = ['Feature_'+Origin, 'Score_'+Origin]\n",
      "        stats.columns = [Origin]\n",
      "        actual_delays.columns = [Origin]\n",
      "        \n",
      "        all_feature_ranks = all_feature_ranks.join(feature_ranks)\n",
      "        all_stats = all_stats.join(stats)\n",
      "        all_actual_delays = all_actual_delays.join(actual_delays)\n",
      "    except JoblibValueError:\n",
      "        print 'could run model for {}'.format(Origin)\n",
      "    \n",
      "    "
     ],
     "language": "python",
     "metadata": {},
     "outputs": [
      {
       "output_type": "stream",
       "stream": "stdout",
       "text": [
        "ATL\n",
        "Precision: 0.54"
       ]
      },
      {
       "output_type": "stream",
       "stream": "stdout",
       "text": [
        "\n",
        "Recall: 0.15\n",
        "F1: 0.23\n",
        "Accuracy: 0.81\n",
        "LAX"
       ]
      },
      {
       "output_type": "stream",
       "stream": "stdout",
       "text": [
        "\n",
        "Precision: 0.60"
       ]
      },
      {
       "output_type": "stream",
       "stream": "stdout",
       "text": [
        "\n",
        "Recall: 0.13\n",
        "F1: 0.22\n",
        "Accuracy: 0.82\n",
        "ORD"
       ]
      },
      {
       "output_type": "stream",
       "stream": "stdout",
       "text": [
        "\n",
        "Precision: 0.57"
       ]
      },
      {
       "output_type": "stream",
       "stream": "stdout",
       "text": [
        "\n",
        "Recall: 0.23\n",
        "F1: 0.33\n",
        "Accuracy: 0.73\n",
        "DFW"
       ]
      },
      {
       "output_type": "stream",
       "stream": "stdout",
       "text": [
        "\n",
        "Precision: 0.61"
       ]
      },
      {
       "output_type": "stream",
       "stream": "stdout",
       "text": [
        "\n",
        "Recall: 0.17\n",
        "F1: 0.27\n",
        "Accuracy: 0.78\n",
        "JFK"
       ]
      },
      {
       "output_type": "stream",
       "stream": "stdout",
       "text": [
        "\n",
        "Precision: 0.57"
       ]
      },
      {
       "ename": "NameError",
       "evalue": "name 'JoblibValueError' is not defined",
       "output_type": "pyerr",
       "traceback": [
        "\u001b[1;31m---------------------------------------------------------------------------\u001b[0m\n\u001b[1;31mNameError\u001b[0m                                 Traceback (most recent call last)",
        "\u001b[1;32m<ipython-input-24-f761393e9992>\u001b[0m in \u001b[0;36m<module>\u001b[1;34m()\u001b[0m\n\u001b[0;32m     37\u001b[0m         \u001b[0mall_stats\u001b[0m \u001b[1;33m=\u001b[0m \u001b[0mall_stats\u001b[0m\u001b[1;33m.\u001b[0m\u001b[0mjoin\u001b[0m\u001b[1;33m(\u001b[0m\u001b[0mstats\u001b[0m\u001b[1;33m)\u001b[0m\u001b[1;33m\u001b[0m\u001b[0m\n\u001b[0;32m     38\u001b[0m         \u001b[0mall_actual_delays\u001b[0m \u001b[1;33m=\u001b[0m \u001b[0mall_actual_delays\u001b[0m\u001b[1;33m.\u001b[0m\u001b[0mjoin\u001b[0m\u001b[1;33m(\u001b[0m\u001b[0mactual_delays\u001b[0m\u001b[1;33m)\u001b[0m\u001b[1;33m\u001b[0m\u001b[0m\n\u001b[1;32m---> 39\u001b[1;33m     \u001b[1;32mexcept\u001b[0m \u001b[0mJoblibValueError\u001b[0m\u001b[1;33m:\u001b[0m\u001b[1;33m\u001b[0m\u001b[0m\n\u001b[0m\u001b[0;32m     40\u001b[0m         \u001b[1;32mprint\u001b[0m \u001b[1;34m'could run model for {}'\u001b[0m\u001b[1;33m.\u001b[0m\u001b[0mformat\u001b[0m\u001b[1;33m(\u001b[0m\u001b[0mOrigin\u001b[0m\u001b[1;33m)\u001b[0m\u001b[1;33m\u001b[0m\u001b[0m\n\u001b[0;32m     41\u001b[0m \u001b[1;33m\u001b[0m\u001b[0m\n",
        "\u001b[1;31mNameError\u001b[0m: name 'JoblibValueError' is not defined"
       ]
      },
      {
       "output_type": "stream",
       "stream": "stdout",
       "text": [
        "\n",
        "Recall: 0.25\n",
        "F1: 0.34\n",
        "Accuracy: 0.82\n",
        "DEN\n"
       ]
      }
     ],
     "prompt_number": 24
    },
    {
     "cell_type": "code",
     "collapsed": false,
     "input": [
      "pd.set_option('display.width', 120)\n",
      "print all_feature_ranks.head()\n",
      "print all_stats\n",
      "print all_actual_delays"
     ],
     "language": "python",
     "metadata": {},
     "outputs": [
      {
       "output_type": "stream",
       "stream": "stdout",
       "text": [
        "  Feature_ATL  Score_ATL Feature_LAX  Score_LAX Feature_ORD  Score_ORD Feature_DFW  Score_DFW Feature_JFK  Score_JFK\n",
        "0        Hour   0.173759        Hour   0.181634        Hour   0.174970        Hour   0.177474        Hour   0.212539\n",
        "1     AirTime   0.113915     AirTime   0.137577     AirTime   0.126614     AirTime   0.145477     AirTime   0.106571\n",
        "2    MFR Year   0.070576    DestTMAX   0.074183    DestTMAX   0.068838    DestTMAX   0.077991    DestTMAX   0.064574\n",
        "3    DestTMIN   0.069191    DestTMIN   0.072982    DestTMIN   0.067875    DestTMIN   0.076465    DestTMIN   0.064229\n",
        "4    DestTMAX   0.068553  DayofMonth   0.067875        Dest   0.063687        Dest   0.068798  OriginTMIN   0.056496\n",
        "                ATL       LAX       ORD       DFW       JFK\n",
        "Precision  0.528227  0.612642  0.572036  0.609801  0.582480\n",
        "Recall     0.142244  0.122005  0.226480  0.177175  0.244387\n",
        "F1         0.224132  0.203487  0.324488  0.274574  0.344313\n",
        "Accuracy   0.814117  0.816518  0.734237  0.782718  0.826718\n",
        "                 ATL            LAX            ORD            DFW           JFK\n",
        "0           0.811248       0.807899       0.718161       0.767909      0.813833\n",
        "1           0.188752       0.192101       0.281839       0.232091      0.186167\n",
        "Total  267647.000000  170796.000000  208818.000000  211232.000000  83742.000000\n"
       ]
      }
     ],
     "prompt_number": 23
    },
    {
     "cell_type": "markdown",
     "metadata": {},
     "source": [
      "### Appendix \n",
      "\n",
      "* To see details on the intermediate data gathering and manipulation work, see the github repo: https://github.com/robertdavidwest/airports\n"
     ]
    }
   ],
   "metadata": {}
  }
 ]
}